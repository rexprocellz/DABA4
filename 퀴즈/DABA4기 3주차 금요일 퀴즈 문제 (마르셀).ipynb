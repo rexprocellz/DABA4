{
 "cells": [
  {
   "cell_type": "code",
   "execution_count": 2,
   "metadata": {
    "id": "XRR2MhZ5WhIE"
   },
   "outputs": [],
   "source": [
    "import pandas as pd"
   ]
  },
  {
   "cell_type": "markdown",
   "metadata": {
    "id": "PpJTv_0IWhIO"
   },
   "source": [
    "* 제미글로와 자누비아 처방 데이터 가져오기\n",
    "* 제미글로와 자누비아를 처방한 내역입니다.\n",
    "* 제미글로와 자누비아 처방시 함께 처방한 의약품 내역도 함께 있습니다.\n",
    "\n",
    "* 데이터셋 다운로드 : https://drive.google.com/file/d/1ZNVFOOQHJS3vuAI8AgIGX3bl7p8YSz1D/view?usp=sharing"
   ]
  },
  {
   "cell_type": "code",
   "execution_count": 3,
   "metadata": {
    "id": "-o1bhubeWhIQ"
   },
   "outputs": [
    {
     "data": {
      "text/plain": [
       "(250559, 19)"
      ]
     },
     "execution_count": 3,
     "metadata": {},
     "output_type": "execute_result"
    }
   ],
   "source": [
    "df = pd.read_csv(\"data/quiz_zemiglo_januvia.csv\")\n",
    "df.shape"
   ]
  },
  {
   "cell_type": "code",
   "execution_count": 4,
   "metadata": {
    "id": "qu7uJ5CYWhIQ"
   },
   "outputs": [
    {
     "data": {
      "text/html": [
       "<div>\n",
       "<style scoped>\n",
       "    .dataframe tbody tr th:only-of-type {\n",
       "        vertical-align: middle;\n",
       "    }\n",
       "\n",
       "    .dataframe tbody tr th {\n",
       "        vertical-align: top;\n",
       "    }\n",
       "\n",
       "    .dataframe thead th {\n",
       "        text-align: right;\n",
       "    }\n",
       "</style>\n",
       "<table border=\"1\" class=\"dataframe\">\n",
       "  <thead>\n",
       "    <tr style=\"text-align: right;\">\n",
       "      <th></th>\n",
       "      <th>기준년도</th>\n",
       "      <th>가입자일련번호</th>\n",
       "      <th>처방내역일련번호</th>\n",
       "      <th>일련번호</th>\n",
       "      <th>성별코드</th>\n",
       "      <th>연령대코드(5세단위)</th>\n",
       "      <th>시도코드</th>\n",
       "      <th>요양개시일자</th>\n",
       "      <th>약품일반성분명코드</th>\n",
       "      <th>1회투약량</th>\n",
       "      <th>1일투약량</th>\n",
       "      <th>총투여일수</th>\n",
       "      <th>단가</th>\n",
       "      <th>금액</th>\n",
       "      <th>데이터공개일자</th>\n",
       "      <th>대표제품</th>\n",
       "      <th>제약회사</th>\n",
       "      <th>ATC코드</th>\n",
       "      <th>성분/함량</th>\n",
       "    </tr>\n",
       "  </thead>\n",
       "  <tbody>\n",
       "    <tr>\n",
       "      <th>0</th>\n",
       "      <td>2018</td>\n",
       "      <td>45</td>\n",
       "      <td>59753763</td>\n",
       "      <td>1</td>\n",
       "      <td>2</td>\n",
       "      <td>16</td>\n",
       "      <td>31</td>\n",
       "      <td>20180719</td>\n",
       "      <td>170801ATB</td>\n",
       "      <td>0.5</td>\n",
       "      <td>1</td>\n",
       "      <td>30</td>\n",
       "      <td>10.0</td>\n",
       "      <td>150</td>\n",
       "      <td>20191217</td>\n",
       "      <td>다이크로짇정(히드로클로로티아지드)_(25mg/1정)</td>\n",
       "      <td>(주)유한양행</td>\n",
       "      <td>C03AA03</td>\n",
       "      <td>hydrochlorothiazide   25mg</td>\n",
       "    </tr>\n",
       "  </tbody>\n",
       "</table>\n",
       "</div>"
      ],
      "text/plain": [
       "   기준년도  가입자일련번호  처방내역일련번호  일련번호  성별코드  연령대코드(5세단위)  시도코드    요양개시일자  \\\n",
       "0  2018       45  59753763     1     2           16    31  20180719   \n",
       "\n",
       "   약품일반성분명코드  1회투약량  1일투약량  총투여일수    단가   금액   데이터공개일자  \\\n",
       "0  170801ATB    0.5      1     30  10.0  150  20191217   \n",
       "\n",
       "                           대표제품     제약회사    ATC코드                       성분/함량  \n",
       "0  다이크로짇정(히드로클로로티아지드)_(25mg/1정)  (주)유한양행  C03AA03  hydrochlorothiazide   25mg  "
      ]
     },
     "execution_count": 4,
     "metadata": {},
     "output_type": "execute_result"
    }
   ],
   "source": [
    "df.head(1)"
   ]
  },
  {
   "cell_type": "markdown",
   "metadata": {
    "id": "HTNXDsZIWhIR"
   },
   "source": [
    "## (1) 총 투여일수가 많은 순서로 10개의 처방내역을 추출해서 다음의 컬럼만 출력이 되도록 합니다.\n",
    "* 빈칸을 채워주세요.\n",
    "* 다음의 컬럼명만 출력되게 해주세요.\n",
    "`\"대표제품\", \"제약회사\", \"총투여일수\", \"성별코드\", \"연령대코드(5세단위)\"`\n",
    "\n",
    "<table border=\"1\" class=\"dataframe\">\n",
    "  <thead>\n",
    "    <tr style=\"text-align: right;\">\n",
    "      <th></th>\n",
    "      <th>대표제품</th>\n",
    "      <th>제약회사</th>\n",
    "      <th>총투여일수</th>\n",
    "      <th>성별코드</th>\n",
    "      <th>연령대코드(5세단위)</th>\n",
    "    </tr>\n",
    "  </thead>\n",
    "  <tbody>\n",
    "    <tr>\n",
    "      <th>74820</th>\n",
    "      <td>유글렉스정2밀리그램(글리메피리드)_(2mg/1정)</td>\n",
    "      <td>(주)대웅제약</td>\n",
    "      <td>300</td>\n",
    "      <td>1</td>\n",
    "      <td>10</td>\n",
    "    </tr>\n",
    "    <tr>\n",
    "      <th>74822</th>\n",
    "      <td>가스모틴에스알정(모사프리드시트르산염수화물)_(15.88mg/1정)</td>\n",
    "      <td>(주)대웅제약</td>\n",
    "      <td>300</td>\n",
    "      <td>1</td>\n",
    "      <td>10</td>\n",
    "    </tr>\n",
    "    <tr>\n",
    "      <th>74821</th>\n",
    "      <td>광동시타글립틴인산염수화물정100밀리그램_(0.1285g/1정)</td>\n",
    "      <td>광동제약(주)</td>\n",
    "      <td>300</td>\n",
    "      <td>1</td>\n",
    "      <td>10</td>\n",
    "    </tr>\n",
    "    <tr>\n",
    "      <th>201956</th>\n",
    "      <td>올메디퀄정5/20밀리그램_(1정)</td>\n",
    "      <td>(주)한독</td>\n",
    "      <td>270</td>\n",
    "      <td>2</td>\n",
    "      <td>12</td>\n",
    "    </tr>\n",
    "    <tr>\n",
    "      <th>117521</th>\n",
    "      <td>뉴옥시탐정(옥시라세탐)_(0.8g/1정)</td>\n",
    "      <td>환인제약(주)</td>\n",
    "      <td>240</td>\n",
    "      <td>2</td>\n",
    "      <td>16</td>\n",
    "    </tr>\n",
    "    <tr>\n",
    "      <th>117523</th>\n",
    "      <td>클로아트정(클로피도그렐황산염)_(97.875mg/1정)</td>\n",
    "      <td>(주)대웅제약</td>\n",
    "      <td>240</td>\n",
    "      <td>2</td>\n",
    "      <td>16</td>\n",
    "    </tr>\n",
    "    <tr>\n",
    "      <th>117525</th>\n",
    "      <td>데잘탄플러스정16/12.5밀리그램_(1정)</td>\n",
    "      <td>한미약품(주)</td>\n",
    "      <td>240</td>\n",
    "      <td>2</td>\n",
    "      <td>16</td>\n",
    "    </tr>\n",
    "    <tr>\n",
    "      <th>117526</th>\n",
    "      <td>제미글로정50밀리그램(제미글립틴타르타르산염1.5수화물)_(68.9mg/1정)</td>\n",
    "      <td>(주)엘지화학</td>\n",
    "      <td>240</td>\n",
    "      <td>2</td>\n",
    "      <td>16</td>\n",
    "    </tr>\n",
    "    <tr>\n",
    "      <th>117529</th>\n",
    "      <td>글리매핀엠정2/500밀리그램_(1정)</td>\n",
    "      <td>영진약품공업(주)</td>\n",
    "      <td>240</td>\n",
    "      <td>2</td>\n",
    "      <td>16</td>\n",
    "    </tr>\n",
    "    <tr>\n",
    "      <th>125317</th>\n",
    "      <td>올메디퀄정5/20밀리그램_(1정)</td>\n",
    "      <td>(주)한독</td>\n",
    "      <td>231</td>\n",
    "      <td>2</td>\n",
    "      <td>14</td>\n",
    "    </tr>\n",
    "  </tbody>\n",
    "</table>"
   ]
  },
  {
   "cell_type": "code",
   "execution_count": 5,
   "metadata": {
    "id": "SV5t7w3IWhIS"
   },
   "outputs": [
    {
     "data": {
      "text/html": [
       "<div>\n",
       "<style scoped>\n",
       "    .dataframe tbody tr th:only-of-type {\n",
       "        vertical-align: middle;\n",
       "    }\n",
       "\n",
       "    .dataframe tbody tr th {\n",
       "        vertical-align: top;\n",
       "    }\n",
       "\n",
       "    .dataframe thead th {\n",
       "        text-align: right;\n",
       "    }\n",
       "</style>\n",
       "<table border=\"1\" class=\"dataframe\">\n",
       "  <thead>\n",
       "    <tr style=\"text-align: right;\">\n",
       "      <th></th>\n",
       "      <th>대표제품</th>\n",
       "      <th>제약회사</th>\n",
       "      <th>총투여일수</th>\n",
       "      <th>성별코드</th>\n",
       "      <th>연령대코드(5세단위)</th>\n",
       "    </tr>\n",
       "  </thead>\n",
       "  <tbody>\n",
       "    <tr>\n",
       "      <th>74820</th>\n",
       "      <td>유글렉스정2밀리그램(글리메피리드)_(2mg/1정)</td>\n",
       "      <td>(주)대웅제약</td>\n",
       "      <td>300</td>\n",
       "      <td>1</td>\n",
       "      <td>10</td>\n",
       "    </tr>\n",
       "    <tr>\n",
       "      <th>74822</th>\n",
       "      <td>가스모틴에스알정(모사프리드시트르산염수화물)_(15.88mg/1정)</td>\n",
       "      <td>(주)대웅제약</td>\n",
       "      <td>300</td>\n",
       "      <td>1</td>\n",
       "      <td>10</td>\n",
       "    </tr>\n",
       "    <tr>\n",
       "      <th>74821</th>\n",
       "      <td>광동시타글립틴인산염수화물정100밀리그램_(0.1285g/1정)</td>\n",
       "      <td>광동제약(주)</td>\n",
       "      <td>300</td>\n",
       "      <td>1</td>\n",
       "      <td>10</td>\n",
       "    </tr>\n",
       "    <tr>\n",
       "      <th>201956</th>\n",
       "      <td>올메디퀄정5/20밀리그램_(1정)</td>\n",
       "      <td>(주)한독</td>\n",
       "      <td>270</td>\n",
       "      <td>2</td>\n",
       "      <td>12</td>\n",
       "    </tr>\n",
       "    <tr>\n",
       "      <th>117521</th>\n",
       "      <td>뉴옥시탐정(옥시라세탐)_(0.8g/1정)</td>\n",
       "      <td>환인제약(주)</td>\n",
       "      <td>240</td>\n",
       "      <td>2</td>\n",
       "      <td>16</td>\n",
       "    </tr>\n",
       "    <tr>\n",
       "      <th>117523</th>\n",
       "      <td>클로아트정(클로피도그렐황산염)_(97.875mg/1정)</td>\n",
       "      <td>(주)대웅제약</td>\n",
       "      <td>240</td>\n",
       "      <td>2</td>\n",
       "      <td>16</td>\n",
       "    </tr>\n",
       "    <tr>\n",
       "      <th>117525</th>\n",
       "      <td>데잘탄플러스정16/12.5밀리그램_(1정)</td>\n",
       "      <td>한미약품(주)</td>\n",
       "      <td>240</td>\n",
       "      <td>2</td>\n",
       "      <td>16</td>\n",
       "    </tr>\n",
       "    <tr>\n",
       "      <th>117526</th>\n",
       "      <td>제미글로정50밀리그램(제미글립틴타르타르산염1.5수화물)_(68.9mg/1정)</td>\n",
       "      <td>(주)엘지화학</td>\n",
       "      <td>240</td>\n",
       "      <td>2</td>\n",
       "      <td>16</td>\n",
       "    </tr>\n",
       "    <tr>\n",
       "      <th>117529</th>\n",
       "      <td>글리매핀엠정2/500밀리그램_(1정)</td>\n",
       "      <td>영진약품공업(주)</td>\n",
       "      <td>240</td>\n",
       "      <td>2</td>\n",
       "      <td>16</td>\n",
       "    </tr>\n",
       "    <tr>\n",
       "      <th>125317</th>\n",
       "      <td>올메디퀄정5/20밀리그램_(1정)</td>\n",
       "      <td>(주)한독</td>\n",
       "      <td>231</td>\n",
       "      <td>2</td>\n",
       "      <td>14</td>\n",
       "    </tr>\n",
       "  </tbody>\n",
       "</table>\n",
       "</div>"
      ],
      "text/plain": [
       "                                              대표제품       제약회사  총투여일수  성별코드  \\\n",
       "74820                  유글렉스정2밀리그램(글리메피리드)_(2mg/1정)    (주)대웅제약    300     1   \n",
       "74822         가스모틴에스알정(모사프리드시트르산염수화물)_(15.88mg/1정)    (주)대웅제약    300     1   \n",
       "74821           광동시타글립틴인산염수화물정100밀리그램_(0.1285g/1정)    광동제약(주)    300     1   \n",
       "201956                          올메디퀄정5/20밀리그램_(1정)      (주)한독    270     2   \n",
       "117521                      뉴옥시탐정(옥시라세탐)_(0.8g/1정)    환인제약(주)    240     2   \n",
       "117523              클로아트정(클로피도그렐황산염)_(97.875mg/1정)    (주)대웅제약    240     2   \n",
       "117525                     데잘탄플러스정16/12.5밀리그램_(1정)    한미약품(주)    240     2   \n",
       "117526  제미글로정50밀리그램(제미글립틴타르타르산염1.5수화물)_(68.9mg/1정)    (주)엘지화학    240     2   \n",
       "117529                        글리매핀엠정2/500밀리그램_(1정)  영진약품공업(주)    240     2   \n",
       "125317                          올메디퀄정5/20밀리그램_(1정)      (주)한독    231     2   \n",
       "\n",
       "        연령대코드(5세단위)  \n",
       "74820            10  \n",
       "74822            10  \n",
       "74821            10  \n",
       "201956           12  \n",
       "117521           16  \n",
       "117523           16  \n",
       "117525           16  \n",
       "117526           16  \n",
       "117529           16  \n",
       "125317           14  "
      ]
     },
     "execution_count": 5,
     "metadata": {},
     "output_type": "execute_result"
    }
   ],
   "source": [
    "df_long_day = df.sort_values(\"총투여일수\", ascending=False).head(10)\n",
    "df_long_day[[\"대표제품\", \"제약회사\", \"총투여일수\", \"성별코드\", \"연령대코드(5세단위)\"]]"
   ]
  },
  {
   "cell_type": "markdown",
   "metadata": {
    "id": "SaY00CxjWhIT"
   },
   "source": [
    "## (2) 총투여일수가 100일 보다 큰 데이터에서 \"연령대코드(5세단위)\" 별로 \"금액\"의 평균을 구해주세요.\n",
    "* 다음의 결과가 나오도록 구합니다.\n",
    "\n",
    "```연령대코드(5세단위)\n",
    "연령대코드(5세단위)\n",
    "4     58052.333333\n",
    "6     73500.000000\n",
    "7     40616.000000\n",
    "8     75301.782609\n",
    "9     75422.745763\n",
    "10    87830.557292\n",
    "11    68194.444444\n",
    "12    71557.906805\n",
    "13    67583.382865\n",
    "14    66712.925570\n",
    "15    65135.538799\n",
    "16    74193.506901\n",
    "17    60941.336824\n",
    "18    69897.496855\n",
    "Name: 금액, dtype: float64\n",
    "```"
   ]
  },
  {
   "cell_type": "code",
   "execution_count": 15,
   "metadata": {
    "id": "nbxHo1ZWWhIU"
   },
   "outputs": [
    {
     "data": {
      "text/plain": [
       "연령대코드(5세단위)\n",
       "4     58052.333333\n",
       "6     73500.000000\n",
       "7     40616.000000\n",
       "8     75301.782609\n",
       "9     75422.745763\n",
       "10    87830.557292\n",
       "11    68194.444444\n",
       "12    71557.906805\n",
       "13    67583.382865\n",
       "14    66712.925570\n",
       "15    65135.538799\n",
       "16    74193.506901\n",
       "17    60941.336824\n",
       "18    69897.496855\n",
       "Name: 금액, dtype: float64"
      ]
     },
     "execution_count": 15,
     "metadata": {},
     "output_type": "execute_result"
    }
   ],
   "source": [
    "df[(df[\"총투여일수\"] > 100)].groupby(\"연령대코드(5세단위)\")[\"금액\"].mean()"
   ]
  },
  {
   "cell_type": "markdown",
   "metadata": {
    "id": "ac3ZtQxcWhIV"
   },
   "source": [
    "## (3) 처방금액이 100만원(1000000) 보다 큰 데이터를 찾아서 [\"대표제품\", \"금액\", \"총투여일수\"] 컬럼만 출력해 주세요.\n",
    "\n",
    "<table border=\"1\" class=\"dataframe\">\n",
    "  <thead>\n",
    "    <tr style=\"text-align: right;\">\n",
    "      <th></th>\n",
    "      <th>대표제품</th>\n",
    "      <th>금액</th>\n",
    "      <th>총투여일수</th>\n",
    "    </tr>\n",
    "  </thead>\n",
    "  <tbody>\n",
    "    <tr>\n",
    "      <th>161522</th>\n",
    "      <td>타리무스캡슐1밀리그램(타크로리무스수화물)_(1.02mg/1캡슐)</td>\n",
    "      <td>1265712</td>\n",
    "      <td>56</td>\n",
    "    </tr>\n",
    "    <tr>\n",
    "      <th>227754</th>\n",
    "      <td>타리무스캡슐1밀리그램(타크로리무스수화물)_(1.02mg/1캡슐)</td>\n",
    "      <td>1017960</td>\n",
    "      <td>85</td>\n",
    "    </tr>\n",
    "  </tbody>\n",
    "</table>"
   ]
  },
  {
   "cell_type": "code",
   "execution_count": 22,
   "metadata": {
    "id": "D9IBroDoWhIW"
   },
   "outputs": [
    {
     "data": {
      "text/html": [
       "<div>\n",
       "<style scoped>\n",
       "    .dataframe tbody tr th:only-of-type {\n",
       "        vertical-align: middle;\n",
       "    }\n",
       "\n",
       "    .dataframe tbody tr th {\n",
       "        vertical-align: top;\n",
       "    }\n",
       "\n",
       "    .dataframe thead th {\n",
       "        text-align: right;\n",
       "    }\n",
       "</style>\n",
       "<table border=\"1\" class=\"dataframe\">\n",
       "  <thead>\n",
       "    <tr style=\"text-align: right;\">\n",
       "      <th></th>\n",
       "      <th>대표제품</th>\n",
       "      <th>금액</th>\n",
       "      <th>총투여일수</th>\n",
       "    </tr>\n",
       "  </thead>\n",
       "  <tbody>\n",
       "    <tr>\n",
       "      <th>161522</th>\n",
       "      <td>타리무스캡슐1밀리그램(타크로리무스수화물)_(1.02mg/1캡슐)</td>\n",
       "      <td>1265712</td>\n",
       "      <td>56</td>\n",
       "    </tr>\n",
       "    <tr>\n",
       "      <th>227754</th>\n",
       "      <td>타리무스캡슐1밀리그램(타크로리무스수화물)_(1.02mg/1캡슐)</td>\n",
       "      <td>1017960</td>\n",
       "      <td>85</td>\n",
       "    </tr>\n",
       "  </tbody>\n",
       "</table>\n",
       "</div>"
      ],
      "text/plain": [
       "                                       대표제품       금액  총투여일수\n",
       "161522  타리무스캡슐1밀리그램(타크로리무스수화물)_(1.02mg/1캡슐)  1265712     56\n",
       "227754  타리무스캡슐1밀리그램(타크로리무스수화물)_(1.02mg/1캡슐)  1017960     85"
      ]
     },
     "execution_count": 22,
     "metadata": {},
     "output_type": "execute_result"
    }
   ],
   "source": [
    "df.loc[(df[\"금액\"] > 1000000), [\"대표제품\", \"금액\", \"총투여일수\"]]"
   ]
  },
  {
   "cell_type": "markdown",
   "metadata": {
    "id": "h7M4ECRbWhIW"
   },
   "source": [
    "## (4) \"총투여일수\"가 100일 보다 크고 제약회사가 \"대웅제약\" 이 아닌 데이터를 찾아주세요. df_100_not_dw 라는 변수에 할당하고, df_100_not_dw 변수에 담긴 값의 행과 열의 수를 세어 주세요.\n",
    "\n",
    "`(5275, 19)` 라는 결과가 나옵니다."
   ]
  },
  {
   "cell_type": "code",
   "execution_count": 16,
   "metadata": {
    "id": "8XskGm-BWhIW"
   },
   "outputs": [
    {
     "data": {
      "text/plain": [
       "(5275, 19)"
      ]
     },
     "execution_count": 16,
     "metadata": {},
     "output_type": "execute_result"
    }
   ],
   "source": [
    "df_100_not_dw = df[(df[\"총투여일수\"] > 100) & (df[\"제약회사\"]!=\"대웅제약\")]\n",
    "df_100_not_dw.shape"
   ]
  },
  {
   "cell_type": "markdown",
   "metadata": {
    "id": "xTroUa6KWhIX"
   },
   "source": [
    "## (5) 위에서 구한 df_100_not_dw 변수에 담겨있는 값으로 groupby 를 통해 \"대표제품\"의 평균\"금액\"을 구하고 낮은 순으로 5개만 출력해 주세요.\n",
    "* 아래의 결과가 출력됩니다.\n",
    "* 아래의 결과는 위에서 구한 총투여일수가 100일보다 크고 대웅제약이 아닌 약품 중에서 \"금액\"의 평균이 낮은 5개의 제품입니다.\n",
    "```\n",
    "대표제품\n",
    "다이크로짇정(히드로클로로티아지드)_(25mg/1정)     670.769231\n",
    "소론도정(프레드니솔론)_(5mg/1정)            896.000000\n",
    "신일폴산정_(1mg/1정)                  1603.000000\n",
    "바이엘아스피린정100밀리그람_(0.1g/1정)       2522.625000\n",
    "디고신정(디곡신)_(0.25mg/1정)           2718.000000\n",
    "Name: 금액, dtype: float64\n",
    "```"
   ]
  },
  {
   "cell_type": "code",
   "execution_count": 23,
   "metadata": {
    "id": "IJKvR-KeWhIX"
   },
   "outputs": [
    {
     "data": {
      "text/plain": [
       "대표제품\n",
       "다이크로짇정(히드로클로로티아지드)_(25mg/1정)     670.769231\n",
       "소론도정(프레드니솔론)_(5mg/1정)            896.000000\n",
       "신일폴산정_(1mg/1정)                  1603.000000\n",
       "바이엘아스피린정100밀리그람_(0.1g/1정)       2522.625000\n",
       "디고신정(디곡신)_(0.25mg/1정)           2718.000000\n",
       "Name: 금액, dtype: float64"
      ]
     },
     "execution_count": 23,
     "metadata": {},
     "output_type": "execute_result"
    }
   ],
   "source": [
    "df_100_not_dw.groupby([\"대표제품\"])[\"금액\"].mean().sort_values().head()"
   ]
  },
  {
   "cell_type": "markdown",
   "metadata": {
    "id": "WngE8OBAWhIX"
   },
   "source": [
    "## (6) \"금액\"이 10만원(100000) 보다 크고 \"연령대코드(5세단위)\" 가 12 보다 큰 데이터를 추출합니다. 여기에서 \"대표제품\" 의 빈도수가 높은 값 5개만 출력해 주세요.\n",
    "* 아래의 결과가 출력되도록 합니다.\n",
    "```\n",
    "광동시타글립틴인산염수화물정100밀리그램_(0.1285g/1정)            334\n",
    "클로아트정(클로피도그렐황산염)_(97.875mg/1정)                185\n",
    "제미글로정50밀리그램(제미글립틴타르타르산염1.5수화물)_(68.9mg/1정)    118\n",
    "씨제이크레메진세립(구형흡착탄)_(2g/2g)                       68\n",
    "시타립틴정50밀리그램(시타글립틴인산염수화물)_(64.25mg/1정)          45\n",
    "Name: 대표제품, dtype: int64\n",
    "```"
   ]
  },
  {
   "cell_type": "code",
   "execution_count": 25,
   "metadata": {
    "id": "EIqxvKEqWhIY"
   },
   "outputs": [
    {
     "data": {
      "text/plain": [
       "광동시타글립틴인산염수화물정100밀리그램_(0.1285g/1정)            334\n",
       "클로아트정(클로피도그렐황산염)_(97.875mg/1정)                185\n",
       "제미글로정50밀리그램(제미글립틴타르타르산염1.5수화물)_(68.9mg/1정)    118\n",
       "씨제이크레메진세립(구형흡착탄)_(2g/2g)                       68\n",
       "시타립틴정50밀리그램(시타글립틴인산염수화물)_(64.25mg/1정)          45\n",
       "Name: 대표제품, dtype: int64"
      ]
     },
     "execution_count": 25,
     "metadata": {},
     "output_type": "execute_result"
    }
   ],
   "source": [
    "df.loc[(df[\"금액\"] > 100000) & (df[\"연령대코드(5세단위)\"] > 12), \"대표제품\"].value_counts().head()"
   ]
  },
  {
   "cell_type": "markdown",
   "metadata": {
    "id": "Fg5Il9FqWhIY"
   },
   "source": [
    "## (7) .loc를 사용해서 \"1회투약량\"이 350 보다 큰 데이터를 찾아서 \"대표제품\" 컬럼만 출력되게 해주세요.\n",
    "* 아래와 같이 출력됩니다. 인덱스 번호와 대표제품이 출력됩니다.\n",
    "\n",
    "```\n",
    "48650     모니락시럽(락툴로오스농축물)_(670g/500mL)\n",
    "48651     모니락시럽(락툴로오스농축물)_(670g/500mL)\n",
    "48652     모니락시럽(락툴로오스농축물)_(670g/500mL)\n",
    "48653     모니락시럽(락툴로오스농축물)_(670g/500mL)\n",
    "48654     모니락시럽(락툴로오스농축물)_(670g/500mL)\n",
    "48655     모니락시럽(락툴로오스농축물)_(670g/500mL)\n",
    "48656     모니락시럽(락툴로오스농축물)_(670g/500mL)\n",
    "48657     모니락시럽(락툴로오스농축물)_(670g/500mL)\n",
    "48658     모니락시럽(락툴로오스농축물)_(670g/500mL)\n",
    "48659     모니락시럽(락툴로오스농축물)_(670g/500mL)\n",
    "48660     모니락시럽(락툴로오스농축물)_(670g/500mL)\n",
    "78219     모니락시럽(락툴로오스농축물)_(670g/500mL)\n",
    "78220     모니락시럽(락툴로오스농축물)_(670g/500mL)\n",
    "127847                 코디캄에스시럽_(500mL)\n",
    "Name: 대표제품, dtype: object\n",
    "```"
   ]
  },
  {
   "cell_type": "code",
   "execution_count": 26,
   "metadata": {
    "id": "3MVtBoNyWhIZ"
   },
   "outputs": [
    {
     "data": {
      "text/plain": [
       "48650     모니락시럽(락툴로오스농축물)_(670g/500mL)\n",
       "48651     모니락시럽(락툴로오스농축물)_(670g/500mL)\n",
       "48652     모니락시럽(락툴로오스농축물)_(670g/500mL)\n",
       "48653     모니락시럽(락툴로오스농축물)_(670g/500mL)\n",
       "48654     모니락시럽(락툴로오스농축물)_(670g/500mL)\n",
       "48655     모니락시럽(락툴로오스농축물)_(670g/500mL)\n",
       "48656     모니락시럽(락툴로오스농축물)_(670g/500mL)\n",
       "48657     모니락시럽(락툴로오스농축물)_(670g/500mL)\n",
       "48658     모니락시럽(락툴로오스농축물)_(670g/500mL)\n",
       "48659     모니락시럽(락툴로오스농축물)_(670g/500mL)\n",
       "48660     모니락시럽(락툴로오스농축물)_(670g/500mL)\n",
       "78219     모니락시럽(락툴로오스농축물)_(670g/500mL)\n",
       "78220     모니락시럽(락툴로오스농축물)_(670g/500mL)\n",
       "127847                 코디캄에스시럽_(500mL)\n",
       "Name: 대표제품, dtype: object"
      ]
     },
     "execution_count": 26,
     "metadata": {},
     "output_type": "execute_result"
    }
   ],
   "source": [
    "df.loc[df[\"1회투약량\"] > 350, \"대표제품\"]"
   ]
  },
  {
   "cell_type": "markdown",
   "metadata": {
    "id": "ZCw6p-_gWhIZ"
   },
   "source": [
    "## (8) \"단가\"가 1만원(10000)보다 큰 데이터에서 \"금액\" 컬럼의 합계(sum)를 구해주세요.\n",
    "* 다음의 결과가 나옵니다.\n",
    "`83272688`"
   ]
  },
  {
   "cell_type": "code",
   "execution_count": 30,
   "metadata": {
    "id": "7ZvtrYg9WhIZ"
   },
   "outputs": [
    {
     "data": {
      "text/plain": [
       "83272688"
      ]
     },
     "execution_count": 30,
     "metadata": {},
     "output_type": "execute_result"
    }
   ],
   "source": [
    "df.loc[df[\"단가\"] > 10000, \"금액\"].sum()"
   ]
  },
  {
   "cell_type": "markdown",
   "metadata": {
    "id": "cURwJuivWhIa"
   },
   "source": [
    "## (9) 아래의 약품코드는 대웅로수바스타틴정에 대한 코드 입니다. 다음 코드가 들어가는 처방내역만 가져와 주세요.\n",
    "* [\"454001ATB\", \"454002ATB\", \"454003ATB\"]\n",
    "* 아래의 코드에서 대웅로수바스타틴정에 해당되는 데이터만 가져와서 df_rosuvastatin 에 할당해 주세요.\n",
    "* 그리고 df_rosuvastatin.shape 로 크기를 출력했을 때 `(6807, 19)` 의 결과가 출력되도록 해주세요."
   ]
  },
  {
   "cell_type": "code",
   "execution_count": 34,
   "metadata": {
    "id": "8-LGAbowWhIa"
   },
   "outputs": [
    {
     "data": {
      "text/plain": [
       "(6807, 19)"
      ]
     },
     "execution_count": 34,
     "metadata": {},
     "output_type": "execute_result"
    }
   ],
   "source": [
    "df_rosuvastatin = df[df[\"약품일반성분명코드\"].isin([\"454001ATB\", \"454002ATB\", \"454003ATB\"])]\n",
    "df_rosuvastatin.shape"
   ]
  },
  {
   "cell_type": "markdown",
   "metadata": {
    "id": "n6XAZA3SWhIa"
   },
   "source": [
    "## (10) 9번 문제에서 만든 df_rosuvastatin 으로 다음의 결과가 출력되도록 groupby 를 통해 구해주세요.\n",
    "* \"연령대코드(5세단위)\", \"성별코드\" 로 그룹화 하고 \"처방내역일련번호\" 로 처방수를 구합니다.\n",
    "<table border=\"1\" class=\"dataframe\">\n",
    "  <thead>\n",
    "    <tr style=\"text-align: right;\">\n",
    "      <th>성별코드</th>\n",
    "      <th>1</th>\n",
    "      <th>2</th>\n",
    "    </tr>\n",
    "    <tr>\n",
    "      <th>연령대코드(5세단위)</th>\n",
    "      <th></th>\n",
    "      <th></th>\n",
    "    </tr>\n",
    "  </thead>\n",
    "  <tbody>\n",
    "    <tr>\n",
    "      <th>4</th>\n",
    "      <td>2.0</td>\n",
    "      <td>NaN</td>\n",
    "    </tr>\n",
    "    <tr>\n",
    "      <th>5</th>\n",
    "      <td>6.0</td>\n",
    "      <td>NaN</td>\n",
    "    </tr>\n",
    "    <tr>\n",
    "      <th>6</th>\n",
    "      <td>7.0</td>\n",
    "      <td>4.0</td>\n",
    "    </tr>\n",
    "    <tr>\n",
    "      <th>7</th>\n",
    "      <td>21.0</td>\n",
    "      <td>NaN</td>\n",
    "    </tr>\n",
    "    <tr>\n",
    "      <th>8</th>\n",
    "      <td>38.0</td>\n",
    "      <td>25.0</td>\n",
    "    </tr>\n",
    "    <tr>\n",
    "      <th>9</th>\n",
    "      <td>150.0</td>\n",
    "      <td>59.0</td>\n",
    "    </tr>\n",
    "    <tr>\n",
    "      <th>10</th>\n",
    "      <td>241.0</td>\n",
    "      <td>83.0</td>\n",
    "    </tr>\n",
    "    <tr>\n",
    "      <th>11</th>\n",
    "      <td>325.0</td>\n",
    "      <td>212.0</td>\n",
    "    </tr>\n",
    "    <tr>\n",
    "      <th>12</th>\n",
    "      <td>588.0</td>\n",
    "      <td>431.0</td>\n",
    "    </tr>\n",
    "    <tr>\n",
    "      <th>13</th>\n",
    "      <td>485.0</td>\n",
    "      <td>460.0</td>\n",
    "    </tr>\n",
    "    <tr>\n",
    "      <th>14</th>\n",
    "      <td>592.0</td>\n",
    "      <td>641.0</td>\n",
    "    </tr>\n",
    "    <tr>\n",
    "      <th>15</th>\n",
    "      <td>377.0</td>\n",
    "      <td>552.0</td>\n",
    "    </tr>\n",
    "    <tr>\n",
    "      <th>16</th>\n",
    "      <td>266.0</td>\n",
    "      <td>519.0</td>\n",
    "    </tr>\n",
    "    <tr>\n",
    "      <th>17</th>\n",
    "      <td>173.0</td>\n",
    "      <td>328.0</td>\n",
    "    </tr>\n",
    "    <tr>\n",
    "      <th>18</th>\n",
    "      <td>75.0</td>\n",
    "      <td>147.0</td>\n",
    "    </tr>\n",
    "  </tbody>\n",
    "</table>"
   ]
  },
  {
   "cell_type": "code",
   "execution_count": 38,
   "metadata": {
    "id": "FhWewvTbWhIb"
   },
   "outputs": [
    {
     "data": {
      "text/html": [
       "<div>\n",
       "<style scoped>\n",
       "    .dataframe tbody tr th:only-of-type {\n",
       "        vertical-align: middle;\n",
       "    }\n",
       "\n",
       "    .dataframe tbody tr th {\n",
       "        vertical-align: top;\n",
       "    }\n",
       "\n",
       "    .dataframe thead th {\n",
       "        text-align: right;\n",
       "    }\n",
       "</style>\n",
       "<table border=\"1\" class=\"dataframe\">\n",
       "  <thead>\n",
       "    <tr style=\"text-align: right;\">\n",
       "      <th>성별코드</th>\n",
       "      <th>1</th>\n",
       "      <th>2</th>\n",
       "    </tr>\n",
       "    <tr>\n",
       "      <th>연령대코드(5세단위)</th>\n",
       "      <th></th>\n",
       "      <th></th>\n",
       "    </tr>\n",
       "  </thead>\n",
       "  <tbody>\n",
       "    <tr>\n",
       "      <th>4</th>\n",
       "      <td>2.0</td>\n",
       "      <td>NaN</td>\n",
       "    </tr>\n",
       "    <tr>\n",
       "      <th>5</th>\n",
       "      <td>6.0</td>\n",
       "      <td>NaN</td>\n",
       "    </tr>\n",
       "    <tr>\n",
       "      <th>6</th>\n",
       "      <td>7.0</td>\n",
       "      <td>4.0</td>\n",
       "    </tr>\n",
       "    <tr>\n",
       "      <th>7</th>\n",
       "      <td>21.0</td>\n",
       "      <td>NaN</td>\n",
       "    </tr>\n",
       "    <tr>\n",
       "      <th>8</th>\n",
       "      <td>38.0</td>\n",
       "      <td>25.0</td>\n",
       "    </tr>\n",
       "    <tr>\n",
       "      <th>9</th>\n",
       "      <td>150.0</td>\n",
       "      <td>59.0</td>\n",
       "    </tr>\n",
       "    <tr>\n",
       "      <th>10</th>\n",
       "      <td>241.0</td>\n",
       "      <td>83.0</td>\n",
       "    </tr>\n",
       "    <tr>\n",
       "      <th>11</th>\n",
       "      <td>325.0</td>\n",
       "      <td>212.0</td>\n",
       "    </tr>\n",
       "    <tr>\n",
       "      <th>12</th>\n",
       "      <td>588.0</td>\n",
       "      <td>431.0</td>\n",
       "    </tr>\n",
       "    <tr>\n",
       "      <th>13</th>\n",
       "      <td>485.0</td>\n",
       "      <td>460.0</td>\n",
       "    </tr>\n",
       "    <tr>\n",
       "      <th>14</th>\n",
       "      <td>592.0</td>\n",
       "      <td>641.0</td>\n",
       "    </tr>\n",
       "    <tr>\n",
       "      <th>15</th>\n",
       "      <td>377.0</td>\n",
       "      <td>552.0</td>\n",
       "    </tr>\n",
       "    <tr>\n",
       "      <th>16</th>\n",
       "      <td>266.0</td>\n",
       "      <td>519.0</td>\n",
       "    </tr>\n",
       "    <tr>\n",
       "      <th>17</th>\n",
       "      <td>173.0</td>\n",
       "      <td>328.0</td>\n",
       "    </tr>\n",
       "    <tr>\n",
       "      <th>18</th>\n",
       "      <td>75.0</td>\n",
       "      <td>147.0</td>\n",
       "    </tr>\n",
       "  </tbody>\n",
       "</table>\n",
       "</div>"
      ],
      "text/plain": [
       "성별코드             1      2\n",
       "연령대코드(5세단위)              \n",
       "4              2.0    NaN\n",
       "5              6.0    NaN\n",
       "6              7.0    4.0\n",
       "7             21.0    NaN\n",
       "8             38.0   25.0\n",
       "9            150.0   59.0\n",
       "10           241.0   83.0\n",
       "11           325.0  212.0\n",
       "12           588.0  431.0\n",
       "13           485.0  460.0\n",
       "14           592.0  641.0\n",
       "15           377.0  552.0\n",
       "16           266.0  519.0\n",
       "17           173.0  328.0\n",
       "18            75.0  147.0"
      ]
     },
     "execution_count": 38,
     "metadata": {},
     "output_type": "execute_result"
    }
   ],
   "source": [
    "df_rosuvastatin.groupby([\"연령대코드(5세단위)\", \"성별코드\"])[\"처방내역일련번호\"].count().unstack()"
   ]
  },
  {
   "cell_type": "code",
   "execution_count": null,
   "metadata": {
    "id": "G7hjvDgrWhIb"
   },
   "outputs": [],
   "source": []
  },
  {
   "cell_type": "code",
   "execution_count": null,
   "metadata": {
    "id": "cxuOpysoWhIb"
   },
   "outputs": [],
   "source": []
  },
  {
   "cell_type": "code",
   "execution_count": null,
   "metadata": {
    "id": "MLxwaRjXWhIx"
   },
   "outputs": [],
   "source": []
  }
 ],
 "metadata": {
  "colab": {
   "name": "DABA4기 3주차 금요일 퀴즈 문제(본인이름).ipynb",
   "provenance": []
  },
  "kernelspec": {
   "display_name": "Python 3",
   "language": "python",
   "name": "python3"
  },
  "language_info": {
   "codemirror_mode": {
    "name": "ipython",
    "version": 3
   },
   "file_extension": ".py",
   "mimetype": "text/x-python",
   "name": "python",
   "nbconvert_exporter": "python",
   "pygments_lexer": "ipython3",
   "version": "3.8.5"
  },
  "toc": {
   "base_numbering": 1,
   "nav_menu": {},
   "number_sections": true,
   "sideBar": true,
   "skip_h1_title": false,
   "title_cell": "Table of Contents",
   "title_sidebar": "Contents",
   "toc_cell": false,
   "toc_position": {},
   "toc_section_display": true,
   "toc_window_display": false
  },
  "varInspector": {
   "cols": {
    "lenName": 16,
    "lenType": 16,
    "lenVar": 40
   },
   "kernels_config": {
    "python": {
     "delete_cmd_postfix": "",
     "delete_cmd_prefix": "del ",
     "library": "var_list.py",
     "varRefreshCmd": "print(var_dic_list())"
    },
    "r": {
     "delete_cmd_postfix": ") ",
     "delete_cmd_prefix": "rm(",
     "library": "var_list.r",
     "varRefreshCmd": "cat(var_dic_list()) "
    }
   },
   "types_to_exclude": [
    "module",
    "function",
    "builtin_function_or_method",
    "instance",
    "_Feature"
   ],
   "window_display": false
  }
 },
 "nbformat": 4,
 "nbformat_minor": 1
}
