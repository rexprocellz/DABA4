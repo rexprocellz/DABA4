{
  "nbformat": 4,
  "nbformat_minor": 0,
  "metadata": {
    "kernelspec": {
      "display_name": "Python 3",
      "language": "python",
      "name": "python3"
    },
    "language_info": {
      "codemirror_mode": {
        "name": "ipython",
        "version": 3
      },
      "file_extension": ".py",
      "mimetype": "text/x-python",
      "name": "python",
      "nbconvert_exporter": "python",
      "pygments_lexer": "ipython3",
      "version": "3.7.6"
    },
    "toc": {
      "base_numbering": 1,
      "nav_menu": {},
      "number_sections": true,
      "sideBar": true,
      "skip_h1_title": false,
      "title_cell": "Table of Contents",
      "title_sidebar": "Contents",
      "toc_cell": false,
      "toc_position": {},
      "toc_section_display": true,
      "toc_window_display": false
    },
    "varInspector": {
      "cols": {
        "lenName": 16,
        "lenType": 16,
        "lenVar": 40
      },
      "kernels_config": {
        "python": {
          "delete_cmd_postfix": "",
          "delete_cmd_prefix": "del ",
          "library": "var_list.py",
          "varRefreshCmd": "print(var_dic_list())"
        },
        "r": {
          "delete_cmd_postfix": ") ",
          "delete_cmd_prefix": "rm(",
          "library": "var_list.r",
          "varRefreshCmd": "cat(var_dic_list()) "
        }
      },
      "types_to_exclude": [
        "module",
        "function",
        "builtin_function_or_method",
        "instance",
        "_Feature"
      ],
      "window_display": false
    },
    "colab": {
      "name": "DABA4기 4주차 금요일 문제 마르셀.ipynb",
      "provenance": [],
      "collapsed_sections": []
    }
  },
  "cells": [
    {
      "cell_type": "markdown",
      "metadata": {
        "id": "3HmZJnqfU6tg"
      },
      "source": [
        "* 참고 : [첫 번째 신경망 훈련하기: 기초적인 분류 문제  |  TensorFlow Core](https://www.tensorflow.org/tutorials/keras/classification)\n",
        "\n",
        "* 텐서플로우로 분류 모델 만들기\n",
        "* 유방암 데이터를 통해 유방암 여부를 예측합니다.\n",
        "\n",
        "* 유방암 데이터 요약\n",
        "```\n",
        "    =================   ==============\n",
        "    Classes                          2\n",
        "    Samples per class    212(M),357(B)\n",
        "    Samples total                  569\n",
        "    Dimensionality                  30\n",
        "    Features            real, positive\n",
        "    =================   ==============\n",
        "```"
      ]
    },
    {
      "cell_type": "code",
      "metadata": {
        "id": "ST9fPvhxU6tm"
      },
      "source": [
        "import pandas as pd\n",
        "import numpy as np\n",
        "import seaborn as sns\n",
        "import matplotlib.pyplot as plt"
      ],
      "execution_count": 1,
      "outputs": []
    },
    {
      "cell_type": "code",
      "metadata": {
        "id": "erP2gyc8U6tn",
        "colab": {
          "base_uri": "https://localhost:8080/"
        },
        "outputId": "d30e223f-18dc-40dc-aa8b-372d7c4ed49f"
      },
      "source": [
        "from sklearn.datasets import load_breast_cancer\n",
        "data = load_breast_cancer()\n",
        "\n",
        "X, y = data.data, data.target\n",
        "X.shape, y.shape"
      ],
      "execution_count": 2,
      "outputs": [
        {
          "output_type": "execute_result",
          "data": {
            "text/plain": [
              "((569, 30), (569,))"
            ]
          },
          "metadata": {
            "tags": []
          },
          "execution_count": 2
        }
      ]
    },
    {
      "cell_type": "code",
      "metadata": {
        "id": "IO4voEezU6tn",
        "colab": {
          "base_uri": "https://localhost:8080/"
        },
        "outputId": "54ff635a-063e-48a5-ccef-c9eceec1b8e2"
      },
      "source": [
        "# 해당 데이터의 피처명 입니다.\n",
        "data.feature_names"
      ],
      "execution_count": 21,
      "outputs": [
        {
          "output_type": "execute_result",
          "data": {
            "text/plain": [
              "array(['mean radius', 'mean texture', 'mean perimeter', 'mean area',\n",
              "       'mean smoothness', 'mean compactness', 'mean concavity',\n",
              "       'mean concave points', 'mean symmetry', 'mean fractal dimension',\n",
              "       'radius error', 'texture error', 'perimeter error', 'area error',\n",
              "       'smoothness error', 'compactness error', 'concavity error',\n",
              "       'concave points error', 'symmetry error',\n",
              "       'fractal dimension error', 'worst radius', 'worst texture',\n",
              "       'worst perimeter', 'worst area', 'worst smoothness',\n",
              "       'worst compactness', 'worst concavity', 'worst concave points',\n",
              "       'worst symmetry', 'worst fractal dimension'], dtype='<U23')"
            ]
          },
          "metadata": {
            "tags": []
          },
          "execution_count": 21
        }
      ]
    },
    {
      "cell_type": "markdown",
      "metadata": {
        "id": "p4aMtsyxU6to"
      },
      "source": [
        "## 1. 예측할 정답값인 y 값의 빈도수의 비율을 구해주세요.\n",
        "* 아래와 같은 값이 나오도록 합니다.\n",
        "```\n",
        "1    0.627417\n",
        "0    0.372583\n",
        "dtype: float64\n",
        "```"
      ]
    },
    {
      "cell_type": "code",
      "metadata": {
        "id": "qMhMTvsvU6to",
        "colab": {
          "base_uri": "https://localhost:8080/"
        },
        "outputId": "a93931f7-607f-4029-8185-ddd3228b4bef"
      },
      "source": [
        "# y 값은 np.array 이기 때문에 pandas의 Series 형태로 변경해서 시각화 합니다.\n",
        "# 빈도수의 비율을 구하고 막대그래프로 시각화 해주세요.\n",
        "pd.Series(y).value_counts(normalize=True)"
      ],
      "execution_count": 22,
      "outputs": [
        {
          "output_type": "execute_result",
          "data": {
            "text/plain": [
              "1    0.627417\n",
              "0    0.372583\n",
              "dtype: float64"
            ]
          },
          "metadata": {
            "tags": []
          },
          "execution_count": 22
        }
      ]
    },
    {
      "cell_type": "code",
      "metadata": {
        "colab": {
          "base_uri": "https://localhost:8080/",
          "height": 283
        },
        "id": "9pLgnsMrFBiP",
        "outputId": "88711735-e0c1-43c6-9080-7e62deb3a847"
      },
      "source": [
        "pd.Series(y).value_counts(normalize=True).plot.barh()"
      ],
      "execution_count": 23,
      "outputs": [
        {
          "output_type": "execute_result",
          "data": {
            "text/plain": [
              "<matplotlib.axes._subplots.AxesSubplot at 0x7f4debc951d0>"
            ]
          },
          "metadata": {
            "tags": []
          },
          "execution_count": 23
        },
        {
          "output_type": "display_data",
          "data": {
            "image/png": "[encoded data removed]",
            "text/plain": [
              "<Figure size 432x288 with 1 Axes>"
            ]
          },
          "metadata": {
            "tags": [],
            "needs_background": "light"
          }
        }
      ]
    },
    {
      "cell_type": "markdown",
      "metadata": {
        "id": "5U7GdTbeU6to"
      },
      "source": [
        "## 2. 학습세트와 예측세트 분리하기"
      ]
    },
    {
      "cell_type": "code",
      "metadata": {
        "scrolled": true,
        "id": "Fhlro3cPU6tp",
        "colab": {
          "base_uri": "https://localhost:8080/"
        },
        "outputId": "268633ae-4bc8-419c-9371-8e74cc7834e5"
      },
      "source": [
        "# 학습세트와 예측세트를 분리합니다.\n",
        "from sklearn.model_selection import train_test_split\n",
        "\n",
        "X_train, X_test, y_train, y_test = train_test_split(X, y, random_state=42)\n",
        "\n",
        "X_train.shape, X_test.shape, y_train.shape, y_test.shape"
      ],
      "execution_count": 24,
      "outputs": [
        {
          "output_type": "execute_result",
          "data": {
            "text/plain": [
              "((426, 30), (143, 30), (426,), (143,))"
            ]
          },
          "metadata": {
            "tags": []
          },
          "execution_count": 24
        }
      ]
    },
    {
      "cell_type": "markdown",
      "metadata": {
        "id": "t1UiQe6XU6tp"
      },
      "source": [
        "## 3. 입력 갯수로 사용할 input_shape 에 알맞은 값이 들어가도록 변수에 값을 넣어주세요.\n",
        "* input_shape 변수에 피처의 갯수를 담아 입력의 갯수를 만들어 줍니다."
      ]
    },
    {
      "cell_type": "code",
      "metadata": {
        "id": "eFQzkqmZU6tp",
        "colab": {
          "base_uri": "https://localhost:8080/"
        },
        "outputId": "787732dd-6a79-497e-8db4-0f6fedb7cd8f"
      },
      "source": [
        "input_shape = len(data.feature_names)\n",
        "input_shape"
      ],
      "execution_count": 31,
      "outputs": [
        {
          "output_type": "execute_result",
          "data": {
            "text/plain": [
              "30"
            ]
          },
          "metadata": {
            "tags": []
          },
          "execution_count": 31
        }
      ]
    },
    {
      "cell_type": "markdown",
      "metadata": {
        "id": "fZvWdKsrU6tp"
      },
      "source": [
        "<img src=\"https://cs231n.github.io/assets/nn1/neural_net2.jpeg\" width=\"40%\">\n",
        "\n",
        "* 이미지 출처 : https://cs231n.github.io/neural-networks-1/"
      ]
    },
    {
      "cell_type": "markdown",
      "metadata": {
        "id": "hjYofBUOU6tq"
      },
      "source": [
        "## 4. 딥러닝 레이어 만들기\n",
        "\n",
        "다음 빈칸에 입력 갯수와 알맞은 activation 을 입력해 주세요.\n",
        "* `128개의 덴즈 레이어(드롭아웃 20%)` - `64개의 덴즈레이어(드롭아웃 20%)` 의 레이어로 activation function 은 `relu` 를 사용하도록 구성해 주세요.\n",
        "* 출력은 `sigmoid` 로 구현해 주세요."
      ]
    },
    {
      "cell_type": "code",
      "metadata": {
        "id": "nm_3wN_GU6tr",
        "colab": {
          "base_uri": "https://localhost:8080/"
        },
        "outputId": "15e1769a-9260-4ae1-b9f7-d2ca15ba1f43"
      },
      "source": [
        "import tensorflow as tf\n",
        "tf.random.set_seed(42)\n",
        "\n",
        "model = tf.keras.models.Sequential([\n",
        "  tf.keras.layers.Input(shape=(input_shape)),\n",
        "  tf.keras.layers.Dense(128, activation='relu'),\n",
        "  tf.keras.layers.Dropout(0.2),\n",
        "  tf.keras.layers.Dense(64, activation='relu'),\n",
        "  tf.keras.layers.Dropout(0.2),\n",
        "  tf.keras.layers.Dense(1, activation='sigmoid')\n",
        "])"
      ],
      "execution_count": 32,
      "outputs": [
        {
          "output_type": "stream",
          "text": [
            "WARNING:tensorflow:Please add `keras.layers.InputLayer` instead of `keras.Input` to Sequential model. `keras.Input` is intended to be used by Functional model.\n"
          ],
          "name": "stdout"
        }
      ]
    },
    {
      "cell_type": "markdown",
      "metadata": {
        "id": "04psfV3OU6ts"
      },
      "source": [
        "## 5. 위에서 만든 레이어를 컴파일 해주세요.\n",
        "\n",
        "* 측정 항목에 `accuracy`가 들어가도록 해주세요."
      ]
    },
    {
      "cell_type": "code",
      "metadata": {
        "id": "H7ovUTXKU6ts"
      },
      "source": [
        "model.compile(optimizer='adam',\n",
        "              loss='binary_crossentropy',\n",
        "              metrics=['accuracy'])"
      ],
      "execution_count": 33,
      "outputs": []
    },
    {
      "cell_type": "markdown",
      "metadata": {
        "id": "o5fagSSNU6ts"
      },
      "source": [
        "## 6. 모델 요약값이 나오도록 빈칸에 알맞은 값을 입력해 주세요.\n",
        "\n",
        "* 아래와 같은 형태가 출력되도록 합니다.\n",
        "\n",
        "```\n",
        "Model: \"sequential\"\n",
        "_________________________________________________________________\n",
        "Layer (type)                 Output Shape              Param #   \n",
        "=================================================================\n",
        "dense (Dense)                (None, 128)               3968      \n",
        "_________________________________________________________________\n",
        "dropout (Dropout)            (None, 128)               0         \n",
        "_________________________________________________________________\n",
        "dense_1 (Dense)              (None, 64)                8256      \n",
        "_________________________________________________________________\n",
        "dropout_1 (Dropout)          (None, 64)                0         \n",
        "_________________________________________________________________\n",
        "dense_2 (Dense)              (None, 1)                 65        \n",
        "=================================================================\n",
        "Total params: 12,289\n",
        "Trainable params: 12,289\n",
        "Non-trainable params: 0\n",
        "_________________________________________________________________\n",
        "```"
      ]
    },
    {
      "cell_type": "code",
      "metadata": {
        "id": "ZZSNQYOaU6tt",
        "colab": {
          "base_uri": "https://localhost:8080/"
        },
        "outputId": "f8c7208e-da0d-49c9-e074-6f6e8be1bbd1"
      },
      "source": [
        "model.summary()"
      ],
      "execution_count": 34,
      "outputs": [
        {
          "output_type": "stream",
          "text": [
            "Model: \"sequential\"\n",
            "_________________________________________________________________\n",
            "Layer (type)                 Output Shape              Param #   \n",
            "=================================================================\n",
            "dense (Dense)                (None, 128)               3968      \n",
            "_________________________________________________________________\n",
            "dropout (Dropout)            (None, 128)               0         \n",
            "_________________________________________________________________\n",
            "dense_1 (Dense)              (None, 64)                8256      \n",
            "_________________________________________________________________\n",
            "dropout_1 (Dropout)          (None, 64)                0         \n",
            "_________________________________________________________________\n",
            "dense_2 (Dense)              (None, 1)                 65        \n",
            "=================================================================\n",
            "Total params: 12,289\n",
            "Trainable params: 12,289\n",
            "Non-trainable params: 0\n",
            "_________________________________________________________________\n"
          ],
          "name": "stdout"
        }
      ]
    },
    {
      "cell_type": "markdown",
      "metadata": {
        "id": "gLYQ9-3hU6tt"
      },
      "source": [
        "## 7. 학습\n",
        "* 아래의 코드 빈칸을 채워 위에서 만든 레이어로 모델이 학습을 할 수 있도록 완성해 주세요."
      ]
    },
    {
      "cell_type": "code",
      "metadata": {
        "id": "wDegCZMzU6tt"
      },
      "source": [
        "history = model.fit(X_train, y_train, \n",
        "                    epochs=100, validation_split = 0.2,\n",
        "                    use_multiprocessing=True,verbose=0)"
      ],
      "execution_count": 35,
      "outputs": []
    },
    {
      "cell_type": "code",
      "metadata": {
        "id": "v9d1-TL9U6tt",
        "colab": {
          "base_uri": "https://localhost:8080/",
          "height": 535
        },
        "outputId": "4304a502-3aeb-4af8-f12d-8c5a0ac7ba9a"
      },
      "source": [
        "hist = pd.DataFrame(history.history)\n",
        "hist[[\"loss\", \"val_loss\"]].plot()\n",
        "hist[[\"accuracy\", \"val_accuracy\"]].plot()"
      ],
      "execution_count": 36,
      "outputs": [
        {
          "output_type": "execute_result",
          "data": {
            "text/plain": [
              "<matplotlib.axes._subplots.AxesSubplot at 0x7f4de3bc7a90>"
            ]
          },
          "metadata": {
            "tags": []
          },
          "execution_count": 36
        },
        {
          "output_type": "display_data",
          "data": {
            "image/png": "[encoded data removed]",
            "text/plain": [
              "<Figure size 432x288 with 1 Axes>"
            ]
          },
          "metadata": {
            "tags": [],
            "needs_background": "light"
          }
        },
        {
          "output_type": "display_data",
          "data": {
            "image/png": "[encoded data removed]",
            "text/plain": [
              "<Figure size 432x288 with 1 Axes>"
            ]
          },
          "metadata": {
            "tags": [],
            "needs_background": "light"
          }
        }
      ]
    },
    {
      "cell_type": "markdown",
      "metadata": {
        "id": "Wmb__wjlU6tu"
      },
      "source": [
        "## 8. 예측\n",
        "* 빈칸을 완성해 학습한 모델을 바탕으로 예측할 수 있도록 해주세요."
      ]
    },
    {
      "cell_type": "code",
      "metadata": {
        "id": "jjDCJRr-U6tu",
        "colab": {
          "base_uri": "https://localhost:8080/"
        },
        "outputId": "891eb2f8-1a91-4a2a-832a-f0259ed4b6be"
      },
      "source": [
        "y_pred = model.predict(X_test)\n",
        "y_pred[0]"
      ],
      "execution_count": 37,
      "outputs": [
        {
          "output_type": "execute_result",
          "data": {
            "text/plain": [
              "array([0.47802937], dtype=float32)"
            ]
          },
          "metadata": {
            "tags": []
          },
          "execution_count": 37
        }
      ]
    },
    {
      "cell_type": "markdown",
      "metadata": {
        "id": "7i1gb0qIU6tu"
      },
      "source": [
        "## 9. 평가\n",
        "* 빈칸을 완성해 모델의 성능을 측정해 주세요."
      ]
    },
    {
      "cell_type": "code",
      "metadata": {
        "id": "Mvnxy24wU6tu",
        "colab": {
          "base_uri": "https://localhost:8080/"
        },
        "outputId": "ad06ff21-9283-4b5b-9887-1e8b8499d3c6"
      },
      "source": [
        "test_loss, test_acc = model.evaluate(X_test, y_test, verbose=2)\n",
        "\n",
        "print('\\n테스트 정확도:', test_acc)"
      ],
      "execution_count": 38,
      "outputs": [
        {
          "output_type": "stream",
          "text": [
            "5/5 - 0s - loss: 0.1616 - accuracy: 0.9441\n",
            "\n",
            "테스트 정확도: 0.9440559148788452\n"
          ],
          "name": "stdout"
        }
      ]
    },
    {
      "cell_type": "markdown",
      "metadata": {
        "id": "GMcbnxPjU6tu"
      },
      "source": [
        "## 10. Accuracy 값을 직접 구해주세요.\n",
        "* 실제값(y_test)과 예측값(y_predict)의 차이의 평균을 구해서 accuracy 값을 계산해 주세요.\n",
        "* 위에서 구한 accuracy 값이 나오도록 직접 파이썬 코드로 구현해 주세요.\n",
        "* 소숫점 끝자리는 약간의 오차가 있을 수 있습니다."
      ]
    },
    {
      "cell_type": "code",
      "metadata": {
        "id": "ecZ2nbbqU6tv",
        "colab": {
          "base_uri": "https://localhost:8080/"
        },
        "outputId": "f3168141-11f7-4350-a2cf-5c8db910cc96"
      },
      "source": [
        "y_predict = (y_pred > 0.5).astype(\"int32\").flatten()\n",
        "y_predict[:5]"
      ],
      "execution_count": 39,
      "outputs": [
        {
          "output_type": "execute_result",
          "data": {
            "text/plain": [
              "array([0, 0, 0, 1, 1], dtype=int32)"
            ]
          },
          "metadata": {
            "tags": []
          },
          "execution_count": 39
        }
      ]
    },
    {
      "cell_type": "code",
      "metadata": {
        "id": "KdcGwHRfU6tv",
        "colab": {
          "base_uri": "https://localhost:8080/"
        },
        "outputId": "980fbe9b-36c1-44cf-d804-d54876546dce"
      },
      "source": [
        "(y_test == y_predict).mean()"
      ],
      "execution_count": 40,
      "outputs": [
        {
          "output_type": "execute_result",
          "data": {
            "text/plain": [
              "0.9440559440559441"
            ]
          },
          "metadata": {
            "tags": []
          },
          "execution_count": 40
        }
      ]
    },
    {
      "cell_type": "code",
      "metadata": {
        "id": "wEEWkHeZU6tv"
      },
      "source": [
        ""
      ],
      "execution_count": null,
      "outputs": []
    }
  ]
}