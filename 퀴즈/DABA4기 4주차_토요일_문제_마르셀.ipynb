{
  "nbformat": 4,
  "nbformat_minor": 0,
  "metadata": {
    "kernelspec": {
      "display_name": "Python 3",
      "language": "python",
      "name": "python3"
    },
    "language_info": {
      "codemirror_mode": {
        "name": "ipython",
        "version": 3
      },
      "file_extension": ".py",
      "mimetype": "text/x-python",
      "name": "python",
      "nbconvert_exporter": "python",
      "pygments_lexer": "ipython3",
      "version": "3.7.6"
    },
    "toc": {
      "base_numbering": 1,
      "nav_menu": {},
      "number_sections": true,
      "sideBar": true,
      "skip_h1_title": false,
      "title_cell": "Table of Contents",
      "title_sidebar": "Contents",
      "toc_cell": false,
      "toc_position": {},
      "toc_section_display": true,
      "toc_window_display": false
    },
    "varInspector": {
      "cols": {
        "lenName": 16,
        "lenType": 16,
        "lenVar": 40
      },
      "kernels_config": {
        "python": {
          "delete_cmd_postfix": "",
          "delete_cmd_prefix": "del ",
          "library": "var_list.py",
          "varRefreshCmd": "print(var_dic_list())"
        },
        "r": {
          "delete_cmd_postfix": ") ",
          "delete_cmd_prefix": "rm(",
          "library": "var_list.r",
          "varRefreshCmd": "cat(var_dic_list()) "
        }
      },
      "types_to_exclude": [
        "module",
        "function",
        "builtin_function_or_method",
        "instance",
        "_Feature"
      ],
      "window_display": false
    },
    "colab": {
      "name": "DABA4기 4주차 토요일 문제 - 마르셀.ipynb",
      "provenance": [],
      "collapsed_sections": []
    },
    "accelerator": "GPU"
  },
  "cells": [
    {
      "cell_type": "markdown",
      "metadata": {
        "id": "7SWsrq_xAmDQ"
      },
      "source": [
        "* 참고 : [자동차 연비 예측하기: 회귀  |  TensorFlow Core](https://www.tensorflow.org/tutorials/keras/regression)\n",
        "\n",
        "* 보스턴 집값 데이터를 통해 텐서플로2로 회귀 모델 만들기\n",
        "```\n",
        "==============   ==============\n",
        "Samples total               506\n",
        "Dimensionality               13\n",
        "Features         real, positive\n",
        "Targets           real 5. - 50.\n",
        "==============   ==============\n",
        "```"
      ]
    },
    {
      "cell_type": "code",
      "metadata": {
        "id": "uDAvlHgiAmDR"
      },
      "source": [
        "import pandas as pd\n",
        "import numpy as np\n",
        "import seaborn as sns\n",
        "import matplotlib.pyplot as plt"
      ],
      "execution_count": 1,
      "outputs": []
    },
    {
      "cell_type": "code",
      "metadata": {
        "id": "nLpzUkkKAmDT",
        "colab": {
          "base_uri": "https://localhost:8080/"
        },
        "outputId": "476cfa20-4f14-4fad-9efb-e105ebfd6da2"
      },
      "source": [
        "from sklearn.datasets import load_boston\n",
        "data = load_boston()\n",
        "\n",
        "X, y = data.data, data.target\n",
        "X.shape, y.shape"
      ],
      "execution_count": 2,
      "outputs": [
        {
          "output_type": "execute_result",
          "data": {
            "text/plain": [
              "((506, 13), (506,))"
            ]
          },
          "metadata": {
            "tags": []
          },
          "execution_count": 2
        }
      ]
    },
    {
      "cell_type": "code",
      "metadata": {
        "id": "1STjsQvUAmDU",
        "colab": {
          "base_uri": "https://localhost:8080/"
        },
        "outputId": "b093531d-525e-4a3c-970e-bfcb5902efad"
      },
      "source": [
        "# 해당 데이터의 피처명 입니다.\n",
        "data.feature_names"
      ],
      "execution_count": 3,
      "outputs": [
        {
          "output_type": "execute_result",
          "data": {
            "text/plain": [
              "array(['CRIM', 'ZN', 'INDUS', 'CHAS', 'NOX', 'RM', 'AGE', 'DIS', 'RAD',\n",
              "       'TAX', 'PTRATIO', 'B', 'LSTAT'], dtype='<U7')"
            ]
          },
          "metadata": {
            "tags": []
          },
          "execution_count": 3
        }
      ]
    },
    {
      "cell_type": "code",
      "metadata": {
        "id": "SokuCgLXAmDV",
        "colab": {
          "base_uri": "https://localhost:8080/",
          "height": 202
        },
        "outputId": "3a9897a0-c6cb-4548-ff25-23d1aa747d5c"
      },
      "source": [
        "df = pd.DataFrame(X, columns=data.feature_names)\n",
        "df[\"PRICE\"] = y\n",
        "df.head()"
      ],
      "execution_count": 4,
      "outputs": [
        {
          "output_type": "execute_result",
          "data": {
            "text/html": [
              "<div>\n",
              "<style scoped>\n",
              "    .dataframe tbody tr th:only-of-type {\n",
              "        vertical-align: middle;\n",
              "    }\n",
              "\n",
              "    .dataframe tbody tr th {\n",
              "        vertical-align: top;\n",
              "    }\n",
              "\n",
              "    .dataframe thead th {\n",
              "        text-align: right;\n",
              "    }\n",
              "</style>\n",
              "<table border=\"1\" class=\"dataframe\">\n",
              "  <thead>\n",
              "    <tr style=\"text-align: right;\">\n",
              "      <th></th>\n",
              "      <th>CRIM</th>\n",
              "      <th>ZN</th>\n",
              "      <th>INDUS</th>\n",
              "      <th>CHAS</th>\n",
              "      <th>NOX</th>\n",
              "      <th>RM</th>\n",
              "      <th>AGE</th>\n",
              "      <th>DIS</th>\n",
              "      <th>RAD</th>\n",
              "      <th>TAX</th>\n",
              "      <th>PTRATIO</th>\n",
              "      <th>B</th>\n",
              "      <th>LSTAT</th>\n",
              "      <th>PRICE</th>\n",
              "    </tr>\n",
              "  </thead>\n",
              "  <tbody>\n",
              "    <tr>\n",
              "      <th>0</th>\n",
              "      <td>0.00632</td>\n",
              "      <td>18.0</td>\n",
              "      <td>2.31</td>\n",
              "      <td>0.0</td>\n",
              "      <td>0.538</td>\n",
              "      <td>6.575</td>\n",
              "      <td>65.2</td>\n",
              "      <td>4.0900</td>\n",
              "      <td>1.0</td>\n",
              "      <td>296.0</td>\n",
              "      <td>15.3</td>\n",
              "      <td>396.90</td>\n",
              "      <td>4.98</td>\n",
              "      <td>24.0</td>\n",
              "    </tr>\n",
              "    <tr>\n",
              "      <th>1</th>\n",
              "      <td>0.02731</td>\n",
              "      <td>0.0</td>\n",
              "      <td>7.07</td>\n",
              "      <td>0.0</td>\n",
              "      <td>0.469</td>\n",
              "      <td>6.421</td>\n",
              "      <td>78.9</td>\n",
              "      <td>4.9671</td>\n",
              "      <td>2.0</td>\n",
              "      <td>242.0</td>\n",
              "      <td>17.8</td>\n",
              "      <td>396.90</td>\n",
              "      <td>9.14</td>\n",
              "      <td>21.6</td>\n",
              "    </tr>\n",
              "    <tr>\n",
              "      <th>2</th>\n",
              "      <td>0.02729</td>\n",
              "      <td>0.0</td>\n",
              "      <td>7.07</td>\n",
              "      <td>0.0</td>\n",
              "      <td>0.469</td>\n",
              "      <td>7.185</td>\n",
              "      <td>61.1</td>\n",
              "      <td>4.9671</td>\n",
              "      <td>2.0</td>\n",
              "      <td>242.0</td>\n",
              "      <td>17.8</td>\n",
              "      <td>392.83</td>\n",
              "      <td>4.03</td>\n",
              "      <td>34.7</td>\n",
              "    </tr>\n",
              "    <tr>\n",
              "      <th>3</th>\n",
              "      <td>0.03237</td>\n",
              "      <td>0.0</td>\n",
              "      <td>2.18</td>\n",
              "      <td>0.0</td>\n",
              "      <td>0.458</td>\n",
              "      <td>6.998</td>\n",
              "      <td>45.8</td>\n",
              "      <td>6.0622</td>\n",
              "      <td>3.0</td>\n",
              "      <td>222.0</td>\n",
              "      <td>18.7</td>\n",
              "      <td>394.63</td>\n",
              "      <td>2.94</td>\n",
              "      <td>33.4</td>\n",
              "    </tr>\n",
              "    <tr>\n",
              "      <th>4</th>\n",
              "      <td>0.06905</td>\n",
              "      <td>0.0</td>\n",
              "      <td>2.18</td>\n",
              "      <td>0.0</td>\n",
              "      <td>0.458</td>\n",
              "      <td>7.147</td>\n",
              "      <td>54.2</td>\n",
              "      <td>6.0622</td>\n",
              "      <td>3.0</td>\n",
              "      <td>222.0</td>\n",
              "      <td>18.7</td>\n",
              "      <td>396.90</td>\n",
              "      <td>5.33</td>\n",
              "      <td>36.2</td>\n",
              "    </tr>\n",
              "  </tbody>\n",
              "</table>\n",
              "</div>"
            ],
            "text/plain": [
              "      CRIM    ZN  INDUS  CHAS    NOX  ...    TAX  PTRATIO       B  LSTAT  PRICE\n",
              "0  0.00632  18.0   2.31   0.0  0.538  ...  296.0     15.3  396.90   4.98   24.0\n",
              "1  0.02731   0.0   7.07   0.0  0.469  ...  242.0     17.8  396.90   9.14   21.6\n",
              "2  0.02729   0.0   7.07   0.0  0.469  ...  242.0     17.8  392.83   4.03   34.7\n",
              "3  0.03237   0.0   2.18   0.0  0.458  ...  222.0     18.7  394.63   2.94   33.4\n",
              "4  0.06905   0.0   2.18   0.0  0.458  ...  222.0     18.7  396.90   5.33   36.2\n",
              "\n",
              "[5 rows x 14 columns]"
            ]
          },
          "metadata": {
            "tags": []
          },
          "execution_count": 4
        }
      ]
    },
    {
      "cell_type": "markdown",
      "metadata": {
        "id": "SQ_x6JIpAmDW"
      },
      "source": [
        "## 1. 판다스에 내장된 기능을 통해 전체 수치 변수에 대한 히스토그램을 그려주세요.\n",
        "* 빈칸을 완성해 다음과 같은 형태의 그래프가 출력되도록 해주세요.\n",
        "\n",
        "<img src=\"https://i.imgur.com/AreUECQ.png\" width=\"500\">"
      ]
    },
    {
      "cell_type": "code",
      "metadata": {
        "id": "GRXnDBjdAmDW",
        "colab": {
          "base_uri": "https://localhost:8080/",
          "height": 902
        },
        "outputId": "d8edfc2e-95f1-46e0-99a1-ace0c62a9885"
      },
      "source": [
        "df.hist(figsize=(10, 10), bins=50)"
      ],
      "execution_count": 5,
      "outputs": [
        {
          "output_type": "execute_result",
          "data": {
            "text/plain": [
              "array([[<matplotlib.axes._subplots.AxesSubplot object at 0x7f0cba099890>,\n",
              "        <matplotlib.axes._subplots.AxesSubplot object at 0x7f0cba072f50>,\n",
              "        <matplotlib.axes._subplots.AxesSubplot object at 0x7f0cba036610>,\n",
              "        <matplotlib.axes._subplots.AxesSubplot object at 0x7f0cb9febc90>],\n",
              "       [<matplotlib.axes._subplots.AxesSubplot object at 0x7f0cb9fad350>,\n",
              "        <matplotlib.axes._subplots.AxesSubplot object at 0x7f0cb9f639d0>,\n",
              "        <matplotlib.axes._subplots.AxesSubplot object at 0x7f0cb9f0eb90>,\n",
              "        <matplotlib.axes._subplots.AxesSubplot object at 0x7f0cb9eda6d0>],\n",
              "       [<matplotlib.axes._subplots.AxesSubplot object at 0x7f0cb9eda710>,\n",
              "        <matplotlib.axes._subplots.AxesSubplot object at 0x7f0cb9e8ee90>,\n",
              "        <matplotlib.axes._subplots.AxesSubplot object at 0x7f0cb9e07ad0>,\n",
              "        <matplotlib.axes._subplots.AxesSubplot object at 0x7f0cb9dc8190>],\n",
              "       [<matplotlib.axes._subplots.AxesSubplot object at 0x7f0cb9dfe810>,\n",
              "        <matplotlib.axes._subplots.AxesSubplot object at 0x7f0cb9db3e90>,\n",
              "        <matplotlib.axes._subplots.AxesSubplot object at 0x7f0cb9d77550>,\n",
              "        <matplotlib.axes._subplots.AxesSubplot object at 0x7f0cb9d2cbd0>]],\n",
              "      dtype=object)"
            ]
          },
          "metadata": {
            "tags": []
          },
          "execution_count": 5
        },
        {
          "output_type": "display_data",
          "data": {
            "image/png": "[encoded data removed]",
            "text/plain": [
              "<Figure size 720x720 with 16 Axes>"
            ]
          },
          "metadata": {
            "tags": [],
            "needs_background": "light"
          }
        }
      ]
    },
    {
      "cell_type": "code",
      "metadata": {
        "scrolled": true,
        "id": "DksJFcs8AmDX",
        "colab": {
          "base_uri": "https://localhost:8080/"
        },
        "outputId": "78defec9-6cd1-4503-f4e4-0bc45586fd67"
      },
      "source": [
        "# 학습세트와 예측세트를 분리합니다.\n",
        "from sklearn.model_selection import train_test_split\n",
        "\n",
        "X_train, X_test, y_train, y_test = train_test_split(X, y, random_state=42)\n",
        "\n",
        "X_train.shape, X_test.shape, y_train.shape, y_test.shape"
      ],
      "execution_count": 6,
      "outputs": [
        {
          "output_type": "execute_result",
          "data": {
            "text/plain": [
              "((379, 13), (127, 13), (379,), (127,))"
            ]
          },
          "metadata": {
            "tags": []
          },
          "execution_count": 6
        }
      ]
    },
    {
      "cell_type": "markdown",
      "metadata": {
        "id": "jja5snHvAmDY"
      },
      "source": [
        "<img src=\"https://cs231n.github.io/assets/nn1/neural_net2.jpeg\" width=\"40%\">\n",
        "\n",
        "* 이미지 출처 : https://cs231n.github.io/neural-networks-1/"
      ]
    },
    {
      "cell_type": "markdown",
      "metadata": {
        "id": "_s8EH_cWAmDY"
      },
      "source": [
        "## 2. 딥러닝 레이어 만들기\n",
        "\n",
        "* 다음 빈칸을 채워 회귀 모델이 되도록 입력층과 출력층을 완성해 주세요."
      ]
    },
    {
      "cell_type": "code",
      "metadata": {
        "id": "SajzavQuAmDZ",
        "colab": {
          "base_uri": "https://localhost:8080/"
        },
        "outputId": "7250de89-b258-4f78-8720-8b55ab1cfc65"
      },
      "source": [
        "# input_shape 변수에 피처의 갯수를 담아 입력의 갯수를 만들어 줍니다.\n",
        "input_shape = X_train.shape[1]\n",
        "input_shape"
      ],
      "execution_count": 7,
      "outputs": [
        {
          "output_type": "execute_result",
          "data": {
            "text/plain": [
              "13"
            ]
          },
          "metadata": {
            "tags": []
          },
          "execution_count": 7
        }
      ]
    },
    {
      "cell_type": "code",
      "metadata": {
        "id": "qIJaCrqqAmDZ",
        "colab": {
          "base_uri": "https://localhost:8080/"
        },
        "outputId": "01592568-a957-4a0c-8ef1-e609c27469fe"
      },
      "source": [
        "import tensorflow as tf\n",
        "tf.random.set_seed(42)\n",
        "\n",
        "model = tf.keras.models.Sequential([\n",
        "  tf.keras.layers.Input(shape=([input_shape])),\n",
        "  tf.keras.layers.Dense(128, activation='relu'),\n",
        "  tf.keras.layers.Dropout(0.2),\n",
        "  tf.keras.layers.Dense(64, activation='relu'),\n",
        "  tf.keras.layers.Dropout(0.2),\n",
        "  tf.keras.layers.Dense(1)\n",
        "])"
      ],
      "execution_count": 8,
      "outputs": [
        {
          "output_type": "stream",
          "text": [
            "WARNING:tensorflow:Please add `keras.layers.InputLayer` instead of `keras.Input` to Sequential model. `keras.Input` is intended to be used by Functional model.\n"
          ],
          "name": "stdout"
        }
      ]
    },
    {
      "cell_type": "markdown",
      "metadata": {
        "id": "nIkFDSbMAmDa"
      },
      "source": [
        "## 3. 위에서 만든 레이어를 컴파일 해주세요.\n",
        "\n",
        "* 측정 항목에 `'mae', 'mse'`가 들어가도록 해주세요."
      ]
    },
    {
      "cell_type": "code",
      "metadata": {
        "id": "FCgotbzhAmDa"
      },
      "source": [
        "optimizer = tf.keras.optimizers.RMSprop(0.001)\n",
        "\n",
        "model.compile(loss='mse',\n",
        "            optimizer=optimizer,\n",
        "            metrics=['mae', 'mse'])"
      ],
      "execution_count": 9,
      "outputs": []
    },
    {
      "cell_type": "markdown",
      "metadata": {
        "id": "13gWuwN_AmDb"
      },
      "source": [
        "## 4. 모델 요약값이 나오도록 빈칸에 알맞은 값을 입력해 주세요.\n",
        "\n",
        "* 아래와 같은 형태가 출력되도록 합니다.\n",
        "\n",
        "```\n",
        "Model: \"sequential\"\n",
        "_________________________________________________________________\n",
        "Layer (type)                 Output Shape              Param #   \n",
        "=================================================================\n",
        "dense (Dense)                (None, 128)               1792      \n",
        "_________________________________________________________________\n",
        "dropout (Dropout)            (None, 128)               0         \n",
        "_________________________________________________________________\n",
        "dense_1 (Dense)              (None, 64)                8256      \n",
        "_________________________________________________________________\n",
        "dropout_1 (Dropout)          (None, 64)                0         \n",
        "_________________________________________________________________\n",
        "dense_2 (Dense)              (None, 1)                 65        \n",
        "=================================================================\n",
        "Total params: 10,113\n",
        "Trainable params: 10,113\n",
        "Non-trainable params: 0\n",
        "_________________________________________________________________\n",
        "```"
      ]
    },
    {
      "cell_type": "code",
      "metadata": {
        "id": "LaCT_955AmDb",
        "colab": {
          "base_uri": "https://localhost:8080/"
        },
        "outputId": "3d9830e1-7796-4943-ad97-081f30ca3c0a"
      },
      "source": [
        "model.summary()"
      ],
      "execution_count": 10,
      "outputs": [
        {
          "output_type": "stream",
          "text": [
            "Model: \"sequential\"\n",
            "_________________________________________________________________\n",
            "Layer (type)                 Output Shape              Param #   \n",
            "=================================================================\n",
            "dense (Dense)                (None, 128)               1792      \n",
            "_________________________________________________________________\n",
            "dropout (Dropout)            (None, 128)               0         \n",
            "_________________________________________________________________\n",
            "dense_1 (Dense)              (None, 64)                8256      \n",
            "_________________________________________________________________\n",
            "dropout_1 (Dropout)          (None, 64)                0         \n",
            "_________________________________________________________________\n",
            "dense_2 (Dense)              (None, 1)                 65        \n",
            "=================================================================\n",
            "Total params: 10,113\n",
            "Trainable params: 10,113\n",
            "Non-trainable params: 0\n",
            "_________________________________________________________________\n"
          ],
          "name": "stdout"
        }
      ]
    },
    {
      "cell_type": "markdown",
      "metadata": {
        "id": "vK1Qb4qRAmDc"
      },
      "source": [
        "## 5. 학습\n",
        "* 아래의 코드 빈칸을 채워 위에서 만든 레이어로 모델이 학습을 할 수 있도록 완성해 주세요.\n",
        "* 에포크마다 훈련 상태를 점검하기 위해 EarlyStopping 콜백(callback)을 사용하겠습니다. 지정된 에포크 횟수 동안 성능 향상이 없으면 자동으로 훈련이 멈춥니다."
      ]
    },
    {
      "cell_type": "code",
      "metadata": {
        "id": "X9GiVfO9AmDc"
      },
      "source": [
        "early_stop = tf.keras.callbacks.EarlyStopping(monitor='val_loss', patience=10)\n",
        "\n",
        "history = model.fit(X_train, y_train, \n",
        "                    epochs=100, validation_split = 0.2,\n",
        "                    use_multiprocessing=True, verbose=0, callbacks=early_stop)"
      ],
      "execution_count": 12,
      "outputs": []
    },
    {
      "cell_type": "code",
      "metadata": {
        "id": "zJid-Q40AmDd",
        "colab": {
          "base_uri": "https://localhost:8080/",
          "height": 202
        },
        "outputId": "3231640e-ff8e-4dcc-e2e8-9949f9e99187"
      },
      "source": [
        "df_hist = pd.DataFrame(history.history)\n",
        "df_hist.head()"
      ],
      "execution_count": 13,
      "outputs": [
        {
          "output_type": "execute_result",
          "data": {
            "text/html": [
              "<div>\n",
              "<style scoped>\n",
              "    .dataframe tbody tr th:only-of-type {\n",
              "        vertical-align: middle;\n",
              "    }\n",
              "\n",
              "    .dataframe tbody tr th {\n",
              "        vertical-align: top;\n",
              "    }\n",
              "\n",
              "    .dataframe thead th {\n",
              "        text-align: right;\n",
              "    }\n",
              "</style>\n",
              "<table border=\"1\" class=\"dataframe\">\n",
              "  <thead>\n",
              "    <tr style=\"text-align: right;\">\n",
              "      <th></th>\n",
              "      <th>loss</th>\n",
              "      <th>mae</th>\n",
              "      <th>mse</th>\n",
              "      <th>val_loss</th>\n",
              "      <th>val_mae</th>\n",
              "      <th>val_mse</th>\n",
              "    </tr>\n",
              "  </thead>\n",
              "  <tbody>\n",
              "    <tr>\n",
              "      <th>0</th>\n",
              "      <td>1844.110596</td>\n",
              "      <td>31.425053</td>\n",
              "      <td>1844.110596</td>\n",
              "      <td>142.266632</td>\n",
              "      <td>9.067281</td>\n",
              "      <td>142.266632</td>\n",
              "    </tr>\n",
              "    <tr>\n",
              "      <th>1</th>\n",
              "      <td>948.350342</td>\n",
              "      <td>24.612974</td>\n",
              "      <td>948.350342</td>\n",
              "      <td>96.035683</td>\n",
              "      <td>6.910130</td>\n",
              "      <td>96.035683</td>\n",
              "    </tr>\n",
              "    <tr>\n",
              "      <th>2</th>\n",
              "      <td>735.895935</td>\n",
              "      <td>20.557453</td>\n",
              "      <td>735.895935</td>\n",
              "      <td>104.604958</td>\n",
              "      <td>8.602682</td>\n",
              "      <td>104.604958</td>\n",
              "    </tr>\n",
              "    <tr>\n",
              "      <th>3</th>\n",
              "      <td>514.255859</td>\n",
              "      <td>17.218760</td>\n",
              "      <td>514.255859</td>\n",
              "      <td>142.428940</td>\n",
              "      <td>8.882744</td>\n",
              "      <td>142.428940</td>\n",
              "    </tr>\n",
              "    <tr>\n",
              "      <th>4</th>\n",
              "      <td>356.165741</td>\n",
              "      <td>14.765116</td>\n",
              "      <td>356.165741</td>\n",
              "      <td>145.754272</td>\n",
              "      <td>10.164026</td>\n",
              "      <td>145.754272</td>\n",
              "    </tr>\n",
              "  </tbody>\n",
              "</table>\n",
              "</div>"
            ],
            "text/plain": [
              "          loss        mae          mse    val_loss    val_mae     val_mse\n",
              "0  1844.110596  31.425053  1844.110596  142.266632   9.067281  142.266632\n",
              "1   948.350342  24.612974   948.350342   96.035683   6.910130   96.035683\n",
              "2   735.895935  20.557453   735.895935  104.604958   8.602682  104.604958\n",
              "3   514.255859  17.218760   514.255859  142.428940   8.882744  142.428940\n",
              "4   356.165741  14.765116   356.165741  145.754272  10.164026  145.754272"
            ]
          },
          "metadata": {
            "tags": []
          },
          "execution_count": 13
        }
      ]
    },
    {
      "cell_type": "code",
      "metadata": {
        "id": "IthKcxmLAmDd",
        "colab": {
          "base_uri": "https://localhost:8080/",
          "height": 531
        },
        "outputId": "796730d8-13e0-4816-954a-1d720e82b6ab"
      },
      "source": [
        "hist = pd.DataFrame(history.history)\n",
        "hist[[\"loss\", \"val_loss\"]].plot()\n",
        "hist[[\"mse\", \"val_mse\"]].plot()"
      ],
      "execution_count": 14,
      "outputs": [
        {
          "output_type": "execute_result",
          "data": {
            "text/plain": [
              "<matplotlib.axes._subplots.AxesSubplot at 0x7f0c1ef721d0>"
            ]
          },
          "metadata": {
            "tags": []
          },
          "execution_count": 14
        },
        {
          "output_type": "display_data",
          "data": {
            "image/png": "[encoded data removed]",
            "text/plain": [
              "<Figure size 432x288 with 1 Axes>"
            ]
          },
          "metadata": {
            "tags": [],
            "needs_background": "light"
          }
        },
        {
          "output_type": "display_data",
          "data": {
            "image/png": "[encoded data removed]",
            "text/plain": [
              "<Figure size 432x288 with 1 Axes>"
            ]
          },
          "metadata": {
            "tags": [],
            "needs_background": "light"
          }
        }
      ]
    },
    {
      "cell_type": "markdown",
      "metadata": {
        "id": "_SDcOxigAmDd"
      },
      "source": [
        "## 6. 평가\n",
        "* 빈칸을 완성해 모델의 성능을 측정해 주세요."
      ]
    },
    {
      "cell_type": "code",
      "metadata": {
        "id": "mlE9n5ZbAmDe",
        "colab": {
          "base_uri": "https://localhost:8080/"
        },
        "outputId": "49f0d3a0-856d-4cca-f7b7-2c74dc01c880"
      },
      "source": [
        "loss, mae, mse = model.evaluate(X_test, y_test, verbose=2)"
      ],
      "execution_count": 15,
      "outputs": [
        {
          "output_type": "stream",
          "text": [
            "4/4 - 0s - loss: 43.8858 - mae: 4.1404 - mse: 43.8858\n"
          ],
          "name": "stdout"
        }
      ]
    },
    {
      "cell_type": "markdown",
      "metadata": {
        "id": "C4Zm4ieoAmDe"
      },
      "source": [
        "## 7. 예측\n",
        "* 빈칸을 완성해 학습한 모델을 바탕으로 예측할 수 있도록 해주세요.\n",
        "* 예측값은 1차원 벡터가 되도록 만들어 주세요."
      ]
    },
    {
      "cell_type": "code",
      "metadata": {
        "id": "aR8EK8yTAmDe",
        "colab": {
          "base_uri": "https://localhost:8080/"
        },
        "outputId": "bba832dc-a0ee-408e-953e-0405ebdba24f"
      },
      "source": [
        "y_predict = model.predict(X_test).flatten()\n",
        "y_predict[:5]"
      ],
      "execution_count": 18,
      "outputs": [
        {
          "output_type": "execute_result",
          "data": {
            "text/plain": [
              "array([21.511019, 25.080362, 16.45042 , 22.108288, 15.914068],\n",
              "      dtype=float32)"
            ]
          },
          "metadata": {
            "tags": []
          },
          "execution_count": 18
        }
      ]
    },
    {
      "cell_type": "markdown",
      "metadata": {
        "id": "emSToGAoAmDf"
      },
      "source": [
        "* 예측값과 실제값의 차이를 구합니다."
      ]
    },
    {
      "cell_type": "code",
      "metadata": {
        "id": "N4v1FqinAmDf",
        "colab": {
          "base_uri": "https://localhost:8080/"
        },
        "outputId": "d51a6812-c133-4cfe-af69-ab55896d4d73"
      },
      "source": [
        "error = y_test - y_predict\n",
        "error[:5]"
      ],
      "execution_count": 19,
      "outputs": [
        {
          "output_type": "execute_result",
          "data": {
            "text/plain": [
              "array([ 2.08898125,  7.31963768, -2.85042038,  0.69171219,  0.18593178])"
            ]
          },
          "metadata": {
            "tags": []
          },
          "execution_count": 19
        }
      ]
    },
    {
      "cell_type": "markdown",
      "metadata": {
        "id": "bZnOSk_jAmDf"
      },
      "source": [
        "## 8. MAE(Mean Absolute Error) 값을 직접 구해주세요.\n",
        "* 실제값(y_test)과 예측값(y_predict)의 차이의 절대값의 평균 값을 계산해 주세요.\n",
        "* 위에서 model.evaluate로 구한 mae 값과 비슷한 값이 나오도록 직접 파이썬 코드로 구현해 주세요.\n",
        "* (소숫점 뒷자리 값이 달라질 수 있습니다.)"
      ]
    },
    {
      "cell_type": "code",
      "metadata": {
        "id": "DIE5xxlMAmDg",
        "colab": {
          "base_uri": "https://localhost:8080/"
        },
        "outputId": "be3be51e-c889-4ac9-aa63-86680828114c"
      },
      "source": [
        "mae = abs(error).mean()\n",
        "mae"
      ],
      "execution_count": 20,
      "outputs": [
        {
          "output_type": "execute_result",
          "data": {
            "text/plain": [
              "4.14036352653203"
            ]
          },
          "metadata": {
            "tags": []
          },
          "execution_count": 20
        }
      ]
    },
    {
      "cell_type": "markdown",
      "metadata": {
        "id": "BhDx2s7cAmDg"
      },
      "source": [
        "## 9. MSE(Mean Squared Error) 값을 직접 구해주세요."
      ]
    },
    {
      "cell_type": "code",
      "metadata": {
        "id": "hRAJ5uNVAmDg",
        "colab": {
          "base_uri": "https://localhost:8080/"
        },
        "outputId": "99f992ef-2a0b-461c-b1e0-76a022cd90b5"
      },
      "source": [
        "# 실제값 - 예측값의 차이의 제곱의 평균\n",
        "# MAE와 비슷해 보이나 제곱을 통해 음수를 양수로 변환합니다.\n",
        "# 분산과 유사한 공식입니다.\n",
        "\n",
        "mse = (np.square(error)).mean()\n",
        "mse"
      ],
      "execution_count": 23,
      "outputs": [
        {
          "output_type": "execute_result",
          "data": {
            "text/plain": [
              "43.88576758360407"
            ]
          },
          "metadata": {
            "tags": []
          },
          "execution_count": 23
        }
      ]
    },
    {
      "cell_type": "markdown",
      "metadata": {
        "id": "HkVkA3wkAmDh"
      },
      "source": [
        "## 10. RMSE(Root Mean Squared Error) 값을 직접 구해주세요."
      ]
    },
    {
      "cell_type": "code",
      "metadata": {
        "id": "-jHK6QfAAmDh",
        "colab": {
          "base_uri": "https://localhost:8080/"
        },
        "outputId": "33621e25-fdd7-464b-b636-842e63bbfdc9"
      },
      "source": [
        "# MSE 값에 Root를 취함, 표준편차와 유사한 공식 입니다.\n",
        "rmse = np.sqrt(mse)\n",
        "rmse"
      ],
      "execution_count": 24,
      "outputs": [
        {
          "output_type": "execute_result",
          "data": {
            "text/plain": [
              "6.624633392392674"
            ]
          },
          "metadata": {
            "tags": []
          },
          "execution_count": 24
        }
      ]
    },
    {
      "cell_type": "code",
      "metadata": {
        "id": "m8aWjN8GAmDi"
      },
      "source": [
        ""
      ],
      "execution_count": null,
      "outputs": []
    }
  ]
}