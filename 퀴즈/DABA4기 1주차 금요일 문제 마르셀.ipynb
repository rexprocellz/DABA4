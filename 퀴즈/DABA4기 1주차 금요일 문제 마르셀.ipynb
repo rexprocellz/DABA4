{
 "cells": [
  {
   "cell_type": "markdown",
   "metadata": {},
   "source": [
    "## 1. 나머지 구하기\n",
    "* 5를 3으로 나눈 나머지를 구합니다.\n",
    "* 나머지의 결과값이 2가 나오도록 빈칸을 채워주세요."
   ]
  },
  {
   "cell_type": "code",
   "execution_count": 1,
   "metadata": {},
   "outputs": [
    {
     "data": {
      "text/plain": [
       "2"
      ]
     },
     "execution_count": 1,
     "metadata": {},
     "output_type": "execute_result"
    }
   ],
   "source": [
    "5 - 3"
   ]
  },
  {
   "cell_type": "markdown",
   "metadata": {},
   "source": [
    "## 2. 다음 \"Python3\"라는 값을 파이썬 문자열의 함수를 사용해서 소문자로 변환해 주세요."
   ]
  },
  {
   "cell_type": "code",
   "execution_count": 3,
   "metadata": {},
   "outputs": [
    {
     "data": {
      "text/plain": [
       "'python3'"
      ]
     },
     "execution_count": 3,
     "metadata": {},
     "output_type": "execute_result"
    }
   ],
   "source": [
    "\"Python3\".lower()"
   ]
  },
  {
   "cell_type": "markdown",
   "metadata": {},
   "source": [
    "## 3. 다음 결과값이 아래와 같은 리스트 형태로 나오도록 문자열을 나눠주는 함수를 빈칸에 채워주세요.\n",
    "\n",
    "`['서울시', '강남구', '삼성동']`"
   ]
  },
  {
   "cell_type": "code",
   "execution_count": 4,
   "metadata": {},
   "outputs": [
    {
     "data": {
      "text/plain": [
       "['서울시', '강남구', '삼성동']"
      ]
     },
     "execution_count": 4,
     "metadata": {},
     "output_type": "execute_result"
    }
   ],
   "source": [
    "address = \"서울시 강남구 삼성동\"\n",
    "address.split(\" \")"
   ]
  },
  {
   "cell_type": "markdown",
   "metadata": {},
   "source": [
    "## 4. 리스트 안에 들어있는 값을 다시 문자열로 붙이는 함수를 빈칸에 채워주세요.\n",
    "\n",
    "아래의 값이 나오도록 합니다.\n",
    "\n",
    "`'서울시 강남구 삼성동'`"
   ]
  },
  {
   "cell_type": "code",
   "execution_count": 8,
   "metadata": {
    "scrolled": true
   },
   "outputs": [
    {
     "data": {
      "text/plain": [
       "'서울시 강남구 삼성동'"
      ]
     },
     "execution_count": 8,
     "metadata": {},
     "output_type": "execute_result"
    }
   ],
   "source": [
    "' '.join(['서울시', '강남구', '삼성동'])"
   ]
  },
  {
   "cell_type": "markdown",
   "metadata": {},
   "source": [
    "## 5. 다음 리스트에서 \"강남구\" 만 인덱스 값으로 찾을 수 있도록 ? 대신 알맞은 값을 채워주세요."
   ]
  },
  {
   "cell_type": "code",
   "execution_count": 9,
   "metadata": {},
   "outputs": [
    {
     "data": {
      "text/plain": [
       "'강남구'"
      ]
     },
     "execution_count": 9,
     "metadata": {},
     "output_type": "execute_result"
    }
   ],
   "source": [
    "address_list = ['서울시', '강남구', '삼성동']\n",
    "address_list[1]"
   ]
  },
  {
   "cell_type": "markdown",
   "metadata": {},
   "source": [
    "## 6. 아래 코드의 결과가 True 가 나오도록 값을 변경해 주세요.\n",
    "\n",
    "`\"1\" <= 이 부분을 변경해 주세요.`"
   ]
  },
  {
   "cell_type": "code",
   "execution_count": 11,
   "metadata": {},
   "outputs": [
    {
     "data": {
      "text/plain": [
       "True"
      ]
     },
     "execution_count": 11,
     "metadata": {},
     "output_type": "execute_result"
    }
   ],
   "source": [
    "True == 1"
   ]
  },
  {
   "cell_type": "markdown",
   "metadata": {},
   "source": [
    "## 7. 다음 빈칸을 채워 리스트안에 있는 질병의 갯수를 세어 주세요."
   ]
  },
  {
   "cell_type": "code",
   "execution_count": 12,
   "metadata": {},
   "outputs": [
    {
     "data": {
      "text/plain": [
       "4"
      ]
     },
     "execution_count": 12,
     "metadata": {},
     "output_type": "execute_result"
    }
   ],
   "source": [
    "sick = [\"당뇨\", \"고혈압\", \"감기\", \"폐렴\"]\n",
    "len(sick)"
   ]
  },
  {
   "cell_type": "markdown",
   "metadata": {},
   "source": [
    "##  8. 다음 빈칸을 완성해 주세요.\n",
    "증상이라는 변수에는 \"당뇨\"라는 값이 들어있습니다. 아래의 구문을 실행했을 때 \"제미글로\"가 출력되도록 빈칸을 채워주세요."
   ]
  },
  {
   "cell_type": "code",
   "execution_count": 13,
   "metadata": {},
   "outputs": [
    {
     "name": "stdout",
     "output_type": "stream",
     "text": [
      "제미글로\n"
     ]
    }
   ],
   "source": [
    "증상 = \"당뇨\"\n",
    "\n",
    "if \"감기\" in 증상:\n",
    "    print(\"감기약\")\n",
    "elif \"당뇨\" in 증상:\n",
    "    print(\"제미글로\")\n",
    "else:\n",
    "    print(\"약사에게 문의하세요.\")"
   ]
  },
  {
   "cell_type": "markdown",
   "metadata": {},
   "source": [
    "## 9. 다음 빈칸을 완성해서 아래와 같은 출력이 되도록 완성해 주세요.\n",
    "* 반복문을 완성해 주세요.\n",
    "\n",
    "```\n",
    "당뇨\n",
    "고혈압\n",
    "감기\n",
    "폐렴\n",
    "```"
   ]
  },
  {
   "cell_type": "code",
   "execution_count": 14,
   "metadata": {},
   "outputs": [
    {
     "name": "stdout",
     "output_type": "stream",
     "text": [
      "당뇨\n",
      "고혈압\n",
      "감기\n",
      "폐렴\n"
     ]
    }
   ],
   "source": [
    "sick = [\"당뇨\", \"고혈압\", \"감기\", \"폐렴\"]\n",
    "\n",
    "for sick_name in sick:\n",
    "    print(sick_name)"
   ]
  },
  {
   "cell_type": "markdown",
   "metadata": {},
   "source": [
    "## 10. 아래의 코드를 완성해서 1234가 출력되도록 해주세요.\n",
    "* 빈칸과 ? 부분을 완성해 주세요."
   ]
  },
  {
   "cell_type": "code",
   "execution_count": 16,
   "metadata": {},
   "outputs": [
    {
     "data": {
      "text/plain": [
       "'1234'"
      ]
     },
     "execution_count": 16,
     "metadata": {},
     "output_type": "execute_result"
    }
   ],
   "source": [
    "# '1234' 가 출력되도록 빈칸을 완성해 주세요.\n",
    "phone = \"010-1234-5678\".split(\"-\")\n",
    "phone[1]"
   ]
  },
  {
   "cell_type": "code",
   "execution_count": null,
   "metadata": {},
   "outputs": [],
   "source": []
  }
 ],
 "metadata": {
  "kernelspec": {
   "display_name": "Python 3",
   "language": "python",
   "name": "python3"
  },
  "language_info": {
   "codemirror_mode": {
    "name": "ipython",
    "version": 3
   },
   "file_extension": ".py",
   "mimetype": "text/x-python",
   "name": "python",
   "nbconvert_exporter": "python",
   "pygments_lexer": "ipython3",
   "version": "3.8.5"
  },
  "toc": {
   "base_numbering": 1,
   "nav_menu": {},
   "number_sections": true,
   "sideBar": true,
   "skip_h1_title": false,
   "title_cell": "Table of Contents",
   "title_sidebar": "Contents",
   "toc_cell": false,
   "toc_position": {},
   "toc_section_display": true,
   "toc_window_display": false
  },
  "varInspector": {
   "cols": {
    "lenName": 16,
    "lenType": 16,
    "lenVar": 40
   },
   "kernels_config": {
    "python": {
     "delete_cmd_postfix": "",
     "delete_cmd_prefix": "del ",
     "library": "var_list.py",
     "varRefreshCmd": "print(var_dic_list())"
    },
    "r": {
     "delete_cmd_postfix": ") ",
     "delete_cmd_prefix": "rm(",
     "library": "var_list.r",
     "varRefreshCmd": "cat(var_dic_list()) "
    }
   },
   "types_to_exclude": [
    "module",
    "function",
    "builtin_function_or_method",
    "instance",
    "_Feature"
   ],
   "window_display": false
  }
 },
 "nbformat": 4,
 "nbformat_minor": 4
}
