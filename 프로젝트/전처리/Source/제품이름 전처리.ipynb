{
 "cells": [
  {
   "cell_type": "code",
   "execution_count": 1,
   "id": "christian-employment",
   "metadata": {},
   "outputs": [],
   "source": [
    "import pandas as pd"
   ]
  },
  {
   "cell_type": "code",
   "execution_count": 132,
   "id": "operational-youth",
   "metadata": {},
   "outputs": [
    {
     "data": {
      "text/html": [
       "<div>\n",
       "<style scoped>\n",
       "    .dataframe tbody tr th:only-of-type {\n",
       "        vertical-align: middle;\n",
       "    }\n",
       "\n",
       "    .dataframe tbody tr th {\n",
       "        vertical-align: top;\n",
       "    }\n",
       "\n",
       "    .dataframe thead th {\n",
       "        text-align: right;\n",
       "    }\n",
       "</style>\n",
       "<table border=\"1\" class=\"dataframe\">\n",
       "  <thead>\n",
       "    <tr style=\"text-align: right;\">\n",
       "      <th></th>\n",
       "      <th>Unnamed: 0</th>\n",
       "      <th>GOODS_NM</th>\n",
       "      <th>goods_kor</th>\n",
       "    </tr>\n",
       "  </thead>\n",
       "  <tbody>\n",
       "    <tr>\n",
       "      <th>0</th>\n",
       "      <td>일회용주사기(D/Syringe)</td>\n",
       "      <td>173</td>\n",
       "      <td>일회용주사기</td>\n",
       "    </tr>\n",
       "    <tr>\n",
       "      <th>1</th>\n",
       "      <td>일회용주사침 (D/Needles)</td>\n",
       "      <td>123</td>\n",
       "      <td>일회용주사침</td>\n",
       "    </tr>\n",
       "    <tr>\n",
       "      <th>2</th>\n",
       "      <td>포리카테타 (FOLEY CATHETER) - SILICONE</td>\n",
       "      <td>61</td>\n",
       "      <td>포리카테타</td>\n",
       "    </tr>\n",
       "    <tr>\n",
       "      <th>3</th>\n",
       "      <td>접은거즈(FoldGauze)</td>\n",
       "      <td>58</td>\n",
       "      <td>접은거즈</td>\n",
       "    </tr>\n",
       "    <tr>\n",
       "      <th>4</th>\n",
       "      <td>일회용주사기(D/Syringe)-카톤</td>\n",
       "      <td>51</td>\n",
       "      <td>일회용주사기</td>\n",
       "    </tr>\n",
       "  </tbody>\n",
       "</table>\n",
       "</div>"
      ],
      "text/plain": [
       "                          Unnamed: 0  GOODS_NM goods_kor\n",
       "0                  일회용주사기(D/Syringe)       173    일회용주사기\n",
       "1                 일회용주사침 (D/Needles)       123   일회용주사침 \n",
       "2  포리카테타 (FOLEY CATHETER) - SILICONE        61  포리카테타   \n",
       "3                    접은거즈(FoldGauze)        58      접은거즈\n",
       "4               일회용주사기(D/Syringe)-카톤        51    일회용주사기"
      ]
     },
     "execution_count": 132,
     "metadata": {},
     "output_type": "execute_result"
    }
   ],
   "source": [
    "df = pd.read_csv('/Users/hyunkyungwoo/Documents/DABA4기 프로젝트/문의 키워드/제품이름_전처리_이름.csv')\n",
    "df.head()"
   ]
  },
  {
   "cell_type": "code",
   "execution_count": 133,
   "id": "marine-thousand",
   "metadata": {},
   "outputs": [
    {
     "data": {
      "text/plain": [
       "Unnamed: 0    개미 제거제 엔트애니킬(개미과립)\n",
       "GOODS_NM                       2\n",
       "goods_kor           개미 제거제 엔트애니킬\n",
       "Name: 3508, dtype: object"
      ]
     },
     "execution_count": 133,
     "metadata": {},
     "output_type": "execute_result"
    }
   ],
   "source": [
    "df.iloc[3508]"
   ]
  },
  {
   "cell_type": "markdown",
   "id": "controlled-sound",
   "metadata": {},
   "source": [
    "# 전치리 함수 정의"
   ]
  },
  {
   "cell_type": "code",
   "execution_count": 135,
   "id": "serial-conditions",
   "metadata": {},
   "outputs": [],
   "source": [
    "import re\n",
    "\n",
    "def pre_processing(goods_nm):\n",
    "#     if goods_nm.str.contains('크림|정|서방정|액|캡슐|로션|필름|시럽|겔', na = False):\n",
    "#         return print(goods_nm)\n",
    "    \n",
    "    #matches = ['크림','정','서방정','액','캡슐','로션','필름','시럽','겔']\n",
    "\n",
    "    matches = ['종근당','동광','홈세이프','중외','피엠에스','서울','코반','헬스퓨어','경남제약','케이엠에스','시에스베리아',\n",
    "              '유엔아이','경남','뽀롱뽀롱','겨울왕국','네오프렌','바이오파마','루크','대한','기획','크리넥스','성광','홈닥터',\n",
    "              '오므론']\n",
    "    \n",
    "    if any(x in goods_nm for x in matches):\n",
    "        return re.sub(r'|'.join(map(re.escape, matches)), '', goods_nm)\n",
    "    "
   ]
  },
  {
   "cell_type": "markdown",
   "id": "specific-praise",
   "metadata": {},
   "source": [
    "# 전처리 원하는 부분 확인"
   ]
  },
  {
   "cell_type": "code",
   "execution_count": 136,
   "id": "aquatic-devil",
   "metadata": {},
   "outputs": [
    {
     "data": {
      "text/html": [
       "<div>\n",
       "<style scoped>\n",
       "    .dataframe tbody tr th:only-of-type {\n",
       "        vertical-align: middle;\n",
       "    }\n",
       "\n",
       "    .dataframe tbody tr th {\n",
       "        vertical-align: top;\n",
       "    }\n",
       "\n",
       "    .dataframe thead th {\n",
       "        text-align: right;\n",
       "    }\n",
       "</style>\n",
       "<table border=\"1\" class=\"dataframe\">\n",
       "  <thead>\n",
       "    <tr style=\"text-align: right;\">\n",
       "      <th></th>\n",
       "      <th>goods_kor</th>\n",
       "    </tr>\n",
       "  </thead>\n",
       "  <tbody>\n",
       "    <tr>\n",
       "      <th>3508</th>\n",
       "      <td>개미 제거제 엔트애니킬</td>\n",
       "    </tr>\n",
       "    <tr>\n",
       "      <th>3509</th>\n",
       "      <td>씨팍신</td>\n",
       "    </tr>\n",
       "    <tr>\n",
       "      <th>3510</th>\n",
       "      <td>상쾌한 하루 쾌변 모닝프리</td>\n",
       "    </tr>\n",
       "    <tr>\n",
       "      <th>3511</th>\n",
       "      <td>토파메드</td>\n",
       "    </tr>\n",
       "    <tr>\n",
       "      <th>3512</th>\n",
       "      <td>메디폼 밴드 혼합형</td>\n",
       "    </tr>\n",
       "    <tr>\n",
       "      <th>...</th>\n",
       "      <td>...</td>\n",
       "    </tr>\n",
       "    <tr>\n",
       "      <th>17095</th>\n",
       "      <td>라미푸르브</td>\n",
       "    </tr>\n",
       "    <tr>\n",
       "      <th>17096</th>\n",
       "      <td>파비스오플록사신</td>\n",
       "    </tr>\n",
       "    <tr>\n",
       "      <th>17097</th>\n",
       "      <td>킴벌리 크린가드 청마스크</td>\n",
       "    </tr>\n",
       "    <tr>\n",
       "      <th>17098</th>\n",
       "      <td>키네시올로지테이프</td>\n",
       "    </tr>\n",
       "    <tr>\n",
       "      <th>17099</th>\n",
       "      <td>밴드 면반창고</td>\n",
       "    </tr>\n",
       "  </tbody>\n",
       "</table>\n",
       "<p>13592 rows × 1 columns</p>\n",
       "</div>"
      ],
      "text/plain": [
       "            goods_kor\n",
       "3508     개미 제거제 엔트애니킬\n",
       "3509              씨팍신\n",
       "3510   상쾌한 하루 쾌변 모닝프리\n",
       "3511             토파메드\n",
       "3512       메디폼 밴드 혼합형\n",
       "...               ...\n",
       "17095           라미푸르브\n",
       "17096        파비스오플록사신\n",
       "17097   킴벌리 크린가드 청마스크\n",
       "17098       키네시올로지테이프\n",
       "17099        밴드 면반창고 \n",
       "\n",
       "[13592 rows x 1 columns]"
      ]
     },
     "execution_count": 136,
     "metadata": {},
     "output_type": "execute_result"
    }
   ],
   "source": [
    "temp_df = df[['goods_kor']].iloc[3508:17100]\n",
    "temp_df"
   ]
  },
  {
   "cell_type": "markdown",
   "id": "alternative-addiction",
   "metadata": {},
   "source": [
    "# 전치러 함수 실행"
   ]
  },
  {
   "cell_type": "code",
   "execution_count": 137,
   "id": "surrounded-xerox",
   "metadata": {},
   "outputs": [],
   "source": [
    "for idx, row in temp_df.iterrows():\n",
    "    #print(row.goods_kor)\n",
    "    #print(idx)\n",
    "    #matches = ['크림','정','서방정','액','캡슐','로션','필름','시럽','겔']\n",
    "    #matches = ['국제멸균','일동','대웅','디앤비','광동','뽀로로','웰팜스','일성','재스퍼','뉴바이오','한일','수성','닥터그린','보령',\n",
    "              #'훼미리','제일','덴탈마스터']\n",
    "        \n",
    "#     matches = ['한신','현재','삼성','닥터헬퍼','유한','카톤','한미','영풍','하나케어','닥터스판','코지','맥손','근화','뉴케어','서머스킨',\n",
    "#               '국제','닥터체크','점안','제이팜','오투웰','테이핑','덴탈프로','녹십자','대성','신풍','경남제약','대일','셀트리온','부광',\n",
    "#               '상아','명인','신신','한국콜마','두원','수암제약','세트','대일밴드','유한킴벌리']\n",
    "    matches = ['종근당','동광','홈세이프','중외','피엠에스','서울','코반','헬스퓨어','경남제약','케이엠에스','시에스베리아',\n",
    "              '유엔아이','경남','뽀롱뽀롱','겨울왕국','네오프렌','바이오파마','루크','대한','기획','크리넥스','성광','홈닥터',\n",
    "              '오므론']\n",
    "    if type(temp_df.loc[idx]['goods_kor']) == float:\n",
    "        pass\n",
    "    elif any(x in temp_df.loc[idx]['goods_kor'] for x in matches):\n",
    "        temp_df.loc[idx] = pre_processing(temp_df.loc[idx]['goods_kor'])\n",
    "    #print(temp_df.loc[idx]['goods_kor'])\n"
   ]
  },
  {
   "cell_type": "code",
   "execution_count": 138,
   "id": "severe-exclusive",
   "metadata": {},
   "outputs": [
    {
     "data": {
      "text/html": [
       "<div>\n",
       "<style scoped>\n",
       "    .dataframe tbody tr th:only-of-type {\n",
       "        vertical-align: middle;\n",
       "    }\n",
       "\n",
       "    .dataframe tbody tr th {\n",
       "        vertical-align: top;\n",
       "    }\n",
       "\n",
       "    .dataframe thead th {\n",
       "        text-align: right;\n",
       "    }\n",
       "</style>\n",
       "<table border=\"1\" class=\"dataframe\">\n",
       "  <thead>\n",
       "    <tr style=\"text-align: right;\">\n",
       "      <th></th>\n",
       "      <th>goods_kor</th>\n",
       "    </tr>\n",
       "  </thead>\n",
       "  <tbody>\n",
       "    <tr>\n",
       "      <th>3508</th>\n",
       "      <td>개미 제거제 엔트애니킬</td>\n",
       "    </tr>\n",
       "    <tr>\n",
       "      <th>3509</th>\n",
       "      <td>씨팍신</td>\n",
       "    </tr>\n",
       "    <tr>\n",
       "      <th>3510</th>\n",
       "      <td>상쾌한 하루 쾌변 모닝프리</td>\n",
       "    </tr>\n",
       "    <tr>\n",
       "      <th>3511</th>\n",
       "      <td>토파메드</td>\n",
       "    </tr>\n",
       "    <tr>\n",
       "      <th>3512</th>\n",
       "      <td>메디폼 밴드 혼합형</td>\n",
       "    </tr>\n",
       "    <tr>\n",
       "      <th>...</th>\n",
       "      <td>...</td>\n",
       "    </tr>\n",
       "    <tr>\n",
       "      <th>17095</th>\n",
       "      <td>라미푸르브</td>\n",
       "    </tr>\n",
       "    <tr>\n",
       "      <th>17096</th>\n",
       "      <td>파비스오플록사신</td>\n",
       "    </tr>\n",
       "    <tr>\n",
       "      <th>17097</th>\n",
       "      <td>킴벌리 크린가드 청마스크</td>\n",
       "    </tr>\n",
       "    <tr>\n",
       "      <th>17098</th>\n",
       "      <td>키네시올로지테이프</td>\n",
       "    </tr>\n",
       "    <tr>\n",
       "      <th>17099</th>\n",
       "      <td>밴드 면반창고</td>\n",
       "    </tr>\n",
       "  </tbody>\n",
       "</table>\n",
       "<p>13592 rows × 1 columns</p>\n",
       "</div>"
      ],
      "text/plain": [
       "            goods_kor\n",
       "3508     개미 제거제 엔트애니킬\n",
       "3509              씨팍신\n",
       "3510   상쾌한 하루 쾌변 모닝프리\n",
       "3511             토파메드\n",
       "3512       메디폼 밴드 혼합형\n",
       "...               ...\n",
       "17095           라미푸르브\n",
       "17096        파비스오플록사신\n",
       "17097   킴벌리 크린가드 청마스크\n",
       "17098       키네시올로지테이프\n",
       "17099        밴드 면반창고 \n",
       "\n",
       "[13592 rows x 1 columns]"
      ]
     },
     "execution_count": 138,
     "metadata": {},
     "output_type": "execute_result"
    }
   ],
   "source": [
    "temp_df"
   ]
  },
  {
   "cell_type": "markdown",
   "id": "hearing-treaty",
   "metadata": {},
   "source": [
    "# 결과물 저장 및 복사 붙이기"
   ]
  },
  {
   "cell_type": "code",
   "execution_count": 139,
   "id": "recorded-cholesterol",
   "metadata": {},
   "outputs": [],
   "source": [
    "temp_df.to_csv('210816.csv', index = False, encoding='utf-8-sig')"
   ]
  },
  {
   "cell_type": "code",
   "execution_count": null,
   "id": "hungarian-elements",
   "metadata": {},
   "outputs": [],
   "source": []
  },
  {
   "cell_type": "code",
   "execution_count": null,
   "id": "constant-windsor",
   "metadata": {},
   "outputs": [],
   "source": []
  },
  {
   "cell_type": "code",
   "execution_count": null,
   "id": "collect-active",
   "metadata": {},
   "outputs": [],
   "source": []
  },
  {
   "cell_type": "code",
   "execution_count": null,
   "id": "iraqi-mystery",
   "metadata": {},
   "outputs": [],
   "source": []
  },
  {
   "cell_type": "code",
   "execution_count": null,
   "id": "impaired-february",
   "metadata": {},
   "outputs": [],
   "source": []
  },
  {
   "cell_type": "code",
   "execution_count": null,
   "id": "broke-channels",
   "metadata": {},
   "outputs": [],
   "source": []
  },
  {
   "cell_type": "code",
   "execution_count": null,
   "id": "optional-listening",
   "metadata": {},
   "outputs": [],
   "source": []
  },
  {
   "cell_type": "code",
   "execution_count": null,
   "id": "adult-discipline",
   "metadata": {},
   "outputs": [],
   "source": []
  }
 ],
 "metadata": {
  "kernelspec": {
   "display_name": "Python 3",
   "language": "python",
   "name": "python3"
  },
  "language_info": {
   "codemirror_mode": {
    "name": "ipython",
    "version": 3
   },
   "file_extension": ".py",
   "mimetype": "text/x-python",
   "name": "python",
   "nbconvert_exporter": "python",
   "pygments_lexer": "ipython3",
   "version": "3.8.2"
  },
  "toc": {
   "base_numbering": 1,
   "nav_menu": {},
   "number_sections": true,
   "sideBar": true,
   "skip_h1_title": false,
   "title_cell": "Table of Contents",
   "title_sidebar": "Contents",
   "toc_cell": false,
   "toc_position": {},
   "toc_section_display": true,
   "toc_window_display": false
  }
 },
 "nbformat": 4,
 "nbformat_minor": 5
}
