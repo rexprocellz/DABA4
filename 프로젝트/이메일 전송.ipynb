{
 "cells": [
  {
   "cell_type": "code",
   "execution_count": 5,
   "metadata": {},
   "outputs": [],
   "source": [
    "import smtplib\n",
    "import ssl\n",
    "from os import listdir\n",
    "from os.path import isfile, join\n",
    "from getpass import getpass\n",
    "from email.message import EmailMessage\n",
    "from email.mime.text import MIMEText\n",
    "from email.mime.multipart import MIMEMultipart\n",
    "from email.mime.base import MIMEBase\n",
    "from email import encoders"
   ]
  },
  {
   "cell_type": "code",
   "execution_count": 6,
   "metadata": {
    "scrolled": true
   },
   "outputs": [
    {
     "name": "stdout",
     "output_type": "stream",
     "text": [
      "이메일 주소 입력 : dj7088141@gmail.com\n",
      "비밀번호 입력 : ········\n"
     ]
    }
   ],
   "source": [
    "# 세션생성, 로그인\n",
    "port = 587  # For starttls\n",
    "smtp_server = \"smtp.gmail.com\"\n",
    "sender_email = input(\"이메일 주소 입력 : \")\n",
    "password = getpass(\"비밀번호 입력 : \")"
   ]
  },
  {
   "cell_type": "code",
   "execution_count": 9,
   "metadata": {},
   "outputs": [
    {
     "name": "stdout",
     "output_type": "stream",
     "text": [
      "Type receiver email address : manuel_marcell@snu.ac.kr\n",
      "년도 입력 : 2020\n",
      "월 입력  : 2\n"
     ]
    }
   ],
   "source": [
    "# 이메일 내용 입력\n",
    "receiver_email = input(\"Type receiver email address : \")\n",
    "# receiver_email = list of all recipients' email address (in case more than one)\n",
    "year = input(\"년도 입력 : \")\n",
    "month = input(\"월 입력  : \")\n",
    "path = \"C:/Users/manue/Desktop/Test/\" #첨부파일"
   ]
  },
  {
   "cell_type": "code",
   "execution_count": 10,
   "metadata": {},
   "outputs": [],
   "source": [
    "# 제목, 본문 작성\n",
    "subject = year + \"년 \" + month + \"월 더샵 제품 판매량 순위 공유 이메일\"\n",
    "name = \"마르셀\" #작성자\n",
    "\n",
    "body = (\"%s%s%s%s%s%s%s%s%s%s\" %\n",
    "        (\"안녕하세요. 대웅재단 장학생 \", name, \"입니다.\\n\\n\",\n",
    "\n",
    "            subject, \" 보내 드리고자 합니다.\\n\",\n",
    "            \"파일은 밑에 첨부되었으니 확인 부탁 드립니다.\\n\\n\",\n",
    "\n",
    "            \"감사합니다.\\n\",\n",
    "            \"좋은 하루 되시길 바랍니다.\\n\\n\",\n",
    "            name, \" 드림\"))"
   ]
  },
  {
   "cell_type": "code",
   "execution_count": 11,
   "metadata": {},
   "outputs": [],
   "source": [
    "# 이메일 생성\n",
    "msg = MIMEMultipart()\n",
    "msg['Subject'] = subject\n",
    "msg['From'] = sender_email\n",
    "msg['To'] = receiver_email\n",
    "msg.attach(MIMEText(body, \"plain\"))"
   ]
  },
  {
   "cell_type": "code",
   "execution_count": 12,
   "metadata": {},
   "outputs": [],
   "source": [
    "# 파일첨부 (파일 미첨부시 생략가능)\n",
    "file = [f for f in listdir(path) if isfile(join(path, f))]\n",
    "for filename in file:\n",
    "    with open(path+filename, \"rb\") as attachment:\n",
    "        part = MIMEBase(\"application\", \"octet-stream\")\n",
    "        part.set_payload(attachment.read())\n",
    "\n",
    "    encoders.encode_base64(part)\n",
    "    part.add_header(\n",
    "        \"Content-Disposition\",\n",
    "        \"attachment; filename=%s\" % (filename)\n",
    "    )\n",
    "\n",
    "    msg.attach(part)"
   ]
  },
  {
   "cell_type": "code",
   "execution_count": 13,
   "metadata": {},
   "outputs": [],
   "source": [
    "# 메일 전송\n",
    "context = ssl.create_default_context()\n",
    "\n",
    "with smtplib.SMTP(smtp_server, port) as server:\n",
    "    server.ehlo()  # Can be omitted\n",
    "    server.starttls(context=context)\n",
    "    server.ehlo()  # Can be omitted\n",
    "    server.login(sender_email, password)\n",
    "    server.sendmail(sender_email, receiver_email, msg.as_string())\n",
    "    server.quit()"
   ]
  },
  {
   "cell_type": "code",
   "execution_count": null,
   "metadata": {},
   "outputs": [],
   "source": []
  },
  {
   "cell_type": "code",
   "execution_count": null,
   "metadata": {},
   "outputs": [],
   "source": []
  },
  {
   "cell_type": "code",
   "execution_count": null,
   "metadata": {},
   "outputs": [],
   "source": []
  },
  {
   "cell_type": "code",
   "execution_count": null,
   "metadata": {},
   "outputs": [],
   "source": []
  },
  {
   "cell_type": "code",
   "execution_count": null,
   "metadata": {},
   "outputs": [],
   "source": []
  },
  {
   "cell_type": "code",
   "execution_count": null,
   "metadata": {},
   "outputs": [],
   "source": []
  },
  {
   "cell_type": "code",
   "execution_count": null,
   "metadata": {},
   "outputs": [],
   "source": []
  },
  {
   "cell_type": "code",
   "execution_count": null,
   "metadata": {},
   "outputs": [],
   "source": []
  },
  {
   "cell_type": "code",
   "execution_count": null,
   "metadata": {},
   "outputs": [],
   "source": []
  },
  {
   "cell_type": "code",
   "execution_count": null,
   "metadata": {},
   "outputs": [],
   "source": []
  }
 ],
 "metadata": {
  "kernelspec": {
   "display_name": "Python 3",
   "language": "python",
   "name": "python3"
  },
  "language_info": {
   "codemirror_mode": {
    "name": "ipython",
    "version": 3
   },
   "file_extension": ".py",
   "mimetype": "text/x-python",
   "name": "python",
   "nbconvert_exporter": "python",
   "pygments_lexer": "ipython3",
   "version": "3.8.5"
  },
  "toc": {
   "base_numbering": 1,
   "nav_menu": {},
   "number_sections": true,
   "sideBar": true,
   "skip_h1_title": false,
   "title_cell": "Table of Contents",
   "title_sidebar": "Contents",
   "toc_cell": false,
   "toc_position": {},
   "toc_section_display": true,
   "toc_window_display": false
  }
 },
 "nbformat": 4,
 "nbformat_minor": 5
}
