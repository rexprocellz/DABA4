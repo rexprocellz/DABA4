{
 "cells": [
  {
   "cell_type": "code",
   "execution_count": 1,
   "metadata": {},
   "outputs": [
    {
     "name": "stderr",
     "output_type": "stream",
     "text": [
      "C:\\Users\\manue\\anaconda3\\lib\\site-packages\\konlpy\\tag\\_okt.py:16: UserWarning: \"Twitter\" has changed to \"Okt\" since KoNLPy v0.4.5.\n",
      "  warn('\"Twitter\" has changed to \"Okt\" since KoNLPy v0.4.5.')\n"
     ]
    }
   ],
   "source": [
    "import pandas as pd\n",
    "from pprint import pprint\n",
    "from wordcloud import WordCloud\n",
    "import nltk\n",
    "import matplotlib.pyplot as plt\n",
    "import platform\n",
    "import numpy as np\n",
    "from matplotlib import font_manager, rc\n",
    "%matplotlib inline\n",
    "from tqdm import tqdm_notebook\n",
    "from ckonlpy.tag import Twitter #pip install customized_konlpy\n",
    "twitter = Twitter()"
   ]
  },
  {
   "cell_type": "markdown",
   "metadata": {},
   "source": [
    "# 전처리된 제품이름을 추가 전 실행"
   ]
  },
  {
   "cell_type": "code",
   "execution_count": 2,
   "metadata": {},
   "outputs": [
    {
     "data": {
      "text/plain": [
       "['임팩타', '민정']"
      ]
     },
     "execution_count": 2,
     "metadata": {},
     "output_type": "execute_result"
    }
   ],
   "source": [
    "twitter.nouns('임팩타민정')"
   ]
  },
  {
   "cell_type": "code",
   "execution_count": 3,
   "metadata": {},
   "outputs": [
    {
     "data": {
      "text/plain": [
       "['타이', '저겔']"
      ]
     },
     "execution_count": 3,
     "metadata": {},
     "output_type": "execute_result"
    }
   ],
   "source": [
    "twitter.nouns('새니타이저겔')"
   ]
  },
  {
   "cell_type": "code",
   "execution_count": 4,
   "metadata": {},
   "outputs": [
    {
     "data": {
      "text/plain": [
       "['핸드', '타이', '저겔']"
      ]
     },
     "execution_count": 4,
     "metadata": {},
     "output_type": "execute_result"
    }
   ],
   "source": [
    "twitter.nouns('핸드새니타이저겔')"
   ]
  },
  {
   "cell_type": "code",
   "execution_count": 5,
   "metadata": {},
   "outputs": [
    {
     "data": {
      "text/plain": [
       "['이지', '이브']"
      ]
     },
     "execution_count": 5,
     "metadata": {},
     "output_type": "execute_result"
    }
   ],
   "source": [
    "twitter.nouns('이지엔6이브')"
   ]
  },
  {
   "cell_type": "markdown",
   "metadata": {},
   "source": [
    "# 전처리된 제품이름 파일을 불러옴"
   ]
  },
  {
   "cell_type": "code",
   "execution_count": 6,
   "metadata": {},
   "outputs": [
    {
     "data": {
      "text/html": [
       "<div>\n",
       "<style scoped>\n",
       "    .dataframe tbody tr th:only-of-type {\n",
       "        vertical-align: middle;\n",
       "    }\n",
       "\n",
       "    .dataframe tbody tr th {\n",
       "        vertical-align: top;\n",
       "    }\n",
       "\n",
       "    .dataframe thead th {\n",
       "        text-align: right;\n",
       "    }\n",
       "</style>\n",
       "<table border=\"1\" class=\"dataframe\">\n",
       "  <thead>\n",
       "    <tr style=\"text-align: right;\">\n",
       "      <th></th>\n",
       "      <th>Unnamed: 0</th>\n",
       "      <th>GOODS_NM</th>\n",
       "      <th>goods_kor</th>\n",
       "    </tr>\n",
       "  </thead>\n",
       "  <tbody>\n",
       "    <tr>\n",
       "      <th>0</th>\n",
       "      <td>일회용주사기(D/Syringe)</td>\n",
       "      <td>173</td>\n",
       "      <td>일회용주사기</td>\n",
       "    </tr>\n",
       "    <tr>\n",
       "      <th>1</th>\n",
       "      <td>일회용주사침 (D/Needles)</td>\n",
       "      <td>123</td>\n",
       "      <td>일회용주사침</td>\n",
       "    </tr>\n",
       "    <tr>\n",
       "      <th>2</th>\n",
       "      <td>포리카테타 (FOLEY CATHETER) - SILICONE</td>\n",
       "      <td>61</td>\n",
       "      <td>포리카테타</td>\n",
       "    </tr>\n",
       "    <tr>\n",
       "      <th>3</th>\n",
       "      <td>접은거즈(FoldGauze)</td>\n",
       "      <td>58</td>\n",
       "      <td>접은거즈</td>\n",
       "    </tr>\n",
       "    <tr>\n",
       "      <th>4</th>\n",
       "      <td>일회용주사기(D/Syringe)-카톤</td>\n",
       "      <td>51</td>\n",
       "      <td>일회용주사기</td>\n",
       "    </tr>\n",
       "  </tbody>\n",
       "</table>\n",
       "</div>"
      ],
      "text/plain": [
       "                          Unnamed: 0  GOODS_NM goods_kor\n",
       "0                  일회용주사기(D/Syringe)       173    일회용주사기\n",
       "1                 일회용주사침 (D/Needles)       123   일회용주사침 \n",
       "2  포리카테타 (FOLEY CATHETER) - SILICONE        61  포리카테타   \n",
       "3                    접은거즈(FoldGauze)        58      접은거즈\n",
       "4               일회용주사기(D/Syringe)-카톤        51    일회용주사기"
      ]
     },
     "execution_count": 6,
     "metadata": {},
     "output_type": "execute_result"
    }
   ],
   "source": [
    "goods_df = pd.read_csv('전처리/제품이름_전처리.csv')\n",
    "goods_df.head()"
   ]
  },
  {
   "cell_type": "markdown",
   "metadata": {},
   "source": [
    "# Nan 데이터를 제거함"
   ]
  },
  {
   "cell_type": "code",
   "execution_count": 7,
   "metadata": {},
   "outputs": [
    {
     "data": {
      "text/plain": [
       "47"
      ]
     },
     "execution_count": 7,
     "metadata": {},
     "output_type": "execute_result"
    }
   ],
   "source": [
    "goods_df['goods_kor'].isnull().sum()"
   ]
  },
  {
   "cell_type": "code",
   "execution_count": 8,
   "metadata": {},
   "outputs": [],
   "source": [
    "goods_df.dropna(inplace=True)"
   ]
  },
  {
   "cell_type": "code",
   "execution_count": 9,
   "metadata": {},
   "outputs": [
    {
     "data": {
      "text/plain": [
       "0"
      ]
     },
     "execution_count": 9,
     "metadata": {},
     "output_type": "execute_result"
    }
   ],
   "source": [
    "goods_df['goods_kor'].isnull().sum()"
   ]
  },
  {
   "cell_type": "code",
   "execution_count": 10,
   "metadata": {},
   "outputs": [],
   "source": [
    "goods_df.reset_index(inplace = True)"
   ]
  },
  {
   "cell_type": "markdown",
   "metadata": {},
   "source": [
    "# ckonlpy에다가 전처리된 제품이름을 일일히 추가"
   ]
  },
  {
   "cell_type": "code",
   "execution_count": 11,
   "metadata": {},
   "outputs": [
    {
     "name": "stderr",
     "output_type": "stream",
     "text": [
      "<ipython-input-11-40d2a2289a3e>:1: TqdmDeprecationWarning: This function will be removed in tqdm==5.0.0\n",
      "Please use `tqdm.notebook.tqdm` instead of `tqdm.tqdm_notebook`\n",
      "  for i in tqdm_notebook(range(0,goods_df.shape[0])):\n"
     ]
    },
    {
     "data": {
      "application/vnd.jupyter.widget-view+json": {
       "model_id": "1318b88f56484ad59f17071b0e493dcf",
       "version_major": 2,
       "version_minor": 0
      },
      "text/plain": [
       "HBox(children=(HTML(value=''), FloatProgress(value=0.0, max=66824.0), HTML(value='')))"
      ]
     },
     "metadata": {},
     "output_type": "display_data"
    },
    {
     "name": "stdout",
     "output_type": "stream",
     "text": [
      "\n"
     ]
    }
   ],
   "source": [
    "for i in tqdm_notebook(range(0,goods_df.shape[0])):\n",
    "    if type(goods_df.iloc[i]['goods_kor']) != type(np.nan):\n",
    "        twitter.add_dictionary(goods_df.iloc[i]['goods_kor'].strip(), 'Noun')"
   ]
  },
  {
   "cell_type": "code",
   "execution_count": 12,
   "metadata": {},
   "outputs": [],
   "source": [
    "twitter.add_dictionary('크린투크린', 'Noun')\n",
    "twitter.add_dictionary('새니타이저'.strip(), 'Noun')\n",
    "twitter.add_dictionary('다이아벡스'.strip(), 'Noun')\n",
    "twitter.add_dictionary('사리돈에이'.strip(), 'Noun')"
   ]
  },
  {
   "cell_type": "code",
   "execution_count": 13,
   "metadata": {},
   "outputs": [
    {
     "data": {
      "text/plain": [
       "['새니타이저겔']"
      ]
     },
     "execution_count": 13,
     "metadata": {},
     "output_type": "execute_result"
    }
   ],
   "source": [
    "twitter.nouns('새니타이저겔')"
   ]
  },
  {
   "cell_type": "code",
   "execution_count": 14,
   "metadata": {
    "scrolled": true
   },
   "outputs": [
    {
     "data": {
      "text/plain": [
       "['핸드새니타이저겔']"
      ]
     },
     "execution_count": 14,
     "metadata": {},
     "output_type": "execute_result"
    }
   ],
   "source": [
    "twitter.nouns('핸드새니타이저겔')"
   ]
  },
  {
   "cell_type": "code",
   "execution_count": 15,
   "metadata": {},
   "outputs": [
    {
     "data": {
      "text/plain": [
       "['임팩타민', '정']"
      ]
     },
     "execution_count": 15,
     "metadata": {},
     "output_type": "execute_result"
    }
   ],
   "source": [
    "twitter.nouns('임팩타민정')"
   ]
  },
  {
   "cell_type": "code",
   "execution_count": 16,
   "metadata": {},
   "outputs": [
    {
     "data": {
      "text/plain": [
       "['이지엔', '이브']"
      ]
     },
     "execution_count": 16,
     "metadata": {},
     "output_type": "execute_result"
    }
   ],
   "source": [
    "twitter.nouns('이지엔6이브')"
   ]
  },
  {
   "cell_type": "markdown",
   "metadata": {},
   "source": [
    "# 상담 데이터 파일 불러옴"
   ]
  },
  {
   "cell_type": "code",
   "execution_count": 17,
   "metadata": {},
   "outputs": [
    {
     "data": {
      "text/html": [
       "<div>\n",
       "<style scoped>\n",
       "    .dataframe tbody tr th:only-of-type {\n",
       "        vertical-align: middle;\n",
       "    }\n",
       "\n",
       "    .dataframe tbody tr th {\n",
       "        vertical-align: top;\n",
       "    }\n",
       "\n",
       "    .dataframe thead th {\n",
       "        text-align: right;\n",
       "    }\n",
       "</style>\n",
       "<table border=\"1\" class=\"dataframe\">\n",
       "  <thead>\n",
       "    <tr style=\"text-align: right;\">\n",
       "      <th></th>\n",
       "      <th>상담일시</th>\n",
       "      <th>통화유형</th>\n",
       "      <th>상담구분</th>\n",
       "      <th>상담유형</th>\n",
       "      <th>상담상세</th>\n",
       "      <th>상담결과</th>\n",
       "      <th>문의사항</th>\n",
       "      <th>문의사항_클리닝</th>\n",
       "    </tr>\n",
       "  </thead>\n",
       "  <tbody>\n",
       "    <tr>\n",
       "      <th>0</th>\n",
       "      <td>2020-06-30 18:07:55</td>\n",
       "      <td>발신</td>\n",
       "      <td>약국몰</td>\n",
       "      <td>배송관련</td>\n",
       "      <td>단순배송확인/ 요청</td>\n",
       "      <td>완결</td>\n",
       "      <td>\\n\\nPO1020267145 결제완료(2020-06-29 08:40:24)대웅제약...</td>\n",
       "      <td>결제 완료 대웅제약 미배송건 문의 현재 시 이후라 확인 어렵고 내일 확인해서 오전에...</td>\n",
       "    </tr>\n",
       "    <tr>\n",
       "      <th>1</th>\n",
       "      <td>2020-06-30 18:03:46</td>\n",
       "      <td>발신</td>\n",
       "      <td>약국몰</td>\n",
       "      <td>이용문의</td>\n",
       "      <td>마일리지 문의</td>\n",
       "      <td>완결</td>\n",
       "      <td>\\n\\n더샵 마일리지 -&gt; 약구매시 사용불가 / 생활기프트신청 안내드림 \\n</td>\n",
       "      <td>더샵 마일리지 약 구매 시 사용 불가 생활기프트 신청 안내드림</td>\n",
       "    </tr>\n",
       "    <tr>\n",
       "      <th>2</th>\n",
       "      <td>2020-06-30 18:02:19</td>\n",
       "      <td>수신</td>\n",
       "      <td>약국몰</td>\n",
       "      <td>반품관련</td>\n",
       "      <td>대웅제약</td>\n",
       "      <td>완결</td>\n",
       "      <td>\\n\\n1) 개성약국-서인혜\\n임팩타민실버정/102.02mg/120정 * 1개 반품...</td>\n",
       "      <td>개성 약국서 인혜 임팩타민 실버정정 개 반품 요청사유 유효기간 임박 신청 완료 열린...</td>\n",
       "    </tr>\n",
       "    <tr>\n",
       "      <th>3</th>\n",
       "      <td>2020-06-30 18:02:13</td>\n",
       "      <td>발신</td>\n",
       "      <td>약국몰</td>\n",
       "      <td>이용문의</td>\n",
       "      <td>이벤트관련</td>\n",
       "      <td>완결</td>\n",
       "      <td>\\n\\n6월 대웅 OTC구매금액 확인 요청 \\n-&gt; 총 1,032,790 원임. 마...</td>\n",
       "      <td>월 대웅 구매 금액 확인 요청 총 원임 마일리지 점 오늘 소멸되므로 필히 패밀리존 ...</td>\n",
       "    </tr>\n",
       "    <tr>\n",
       "      <th>4</th>\n",
       "      <td>2020-06-30 18:01:43</td>\n",
       "      <td>수신</td>\n",
       "      <td>약국몰</td>\n",
       "      <td>배송관련</td>\n",
       "      <td>단순배송확인/ 요청</td>\n",
       "      <td>완결</td>\n",
       "      <td>\\n\\nPO1020267145 결제완료(2020-06-29 08:40:24)대웅제약...</td>\n",
       "      <td>결제 완료 대웅제약 미배송건 문의 확인해서 연락드리겠다고 안내드림</td>\n",
       "    </tr>\n",
       "  </tbody>\n",
       "</table>\n",
       "</div>"
      ],
      "text/plain": [
       "                  상담일시 통화유형 상담구분  상담유형        상담상세 상담결과  \\\n",
       "0  2020-06-30 18:07:55   발신  약국몰  배송관련  단순배송확인/ 요청   완결   \n",
       "1  2020-06-30 18:03:46   발신  약국몰  이용문의     마일리지 문의   완결   \n",
       "2  2020-06-30 18:02:19   수신  약국몰  반품관련        대웅제약   완결   \n",
       "3  2020-06-30 18:02:13   발신  약국몰  이용문의       이벤트관련   완결   \n",
       "4  2020-06-30 18:01:43   수신  약국몰  배송관련  단순배송확인/ 요청   완결   \n",
       "\n",
       "                                                문의사항  \\\n",
       "0  \\n\\nPO1020267145 결제완료(2020-06-29 08:40:24)대웅제약...   \n",
       "1         \\n\\n더샵 마일리지 -> 약구매시 사용불가 / 생활기프트신청 안내드림 \\n   \n",
       "2  \\n\\n1) 개성약국-서인혜\\n임팩타민실버정/102.02mg/120정 * 1개 반품...   \n",
       "3  \\n\\n6월 대웅 OTC구매금액 확인 요청 \\n-> 총 1,032,790 원임. 마...   \n",
       "4  \\n\\nPO1020267145 결제완료(2020-06-29 08:40:24)대웅제약...   \n",
       "\n",
       "                                            문의사항_클리닝  \n",
       "0  결제 완료 대웅제약 미배송건 문의 현재 시 이후라 확인 어렵고 내일 확인해서 오전에...  \n",
       "1                 더샵 마일리지 약 구매 시 사용 불가 생활기프트 신청 안내드림  \n",
       "2  개성 약국서 인혜 임팩타민 실버정정 개 반품 요청사유 유효기간 임박 신청 완료 열린...  \n",
       "3  월 대웅 구매 금액 확인 요청 총 원임 마일리지 점 오늘 소멸되므로 필히 패밀리존 ...  \n",
       "4               결제 완료 대웅제약 미배송건 문의 확인해서 연락드리겠다고 안내드림  "
      ]
     },
     "execution_count": 17,
     "metadata": {},
     "output_type": "execute_result"
    }
   ],
   "source": [
    "df = pd.read_csv('데이터/2020.01-06_상담내역.csv', encoding='utf-8')\n",
    "df.head()"
   ]
  },
  {
   "cell_type": "code",
   "execution_count": 18,
   "metadata": {},
   "outputs": [
    {
     "data": {
      "text/plain": [
       "42"
      ]
     },
     "execution_count": 18,
     "metadata": {},
     "output_type": "execute_result"
    }
   ],
   "source": [
    "df['문의사항_클리닝'].isnull().sum()"
   ]
  },
  {
   "cell_type": "code",
   "execution_count": 19,
   "metadata": {},
   "outputs": [],
   "source": [
    "idx = df[df['문의사항_클리닝'].isnull()].index\n",
    "df = df.drop(idx)"
   ]
  },
  {
   "cell_type": "code",
   "execution_count": 20,
   "metadata": {
    "scrolled": true
   },
   "outputs": [
    {
     "data": {
      "text/html": [
       "<div>\n",
       "<style scoped>\n",
       "    .dataframe tbody tr th:only-of-type {\n",
       "        vertical-align: middle;\n",
       "    }\n",
       "\n",
       "    .dataframe tbody tr th {\n",
       "        vertical-align: top;\n",
       "    }\n",
       "\n",
       "    .dataframe thead th {\n",
       "        text-align: right;\n",
       "    }\n",
       "</style>\n",
       "<table border=\"1\" class=\"dataframe\">\n",
       "  <thead>\n",
       "    <tr style=\"text-align: right;\">\n",
       "      <th></th>\n",
       "      <th>상담일시</th>\n",
       "      <th>통화유형</th>\n",
       "      <th>상담구분</th>\n",
       "      <th>상담유형</th>\n",
       "      <th>상담상세</th>\n",
       "      <th>상담결과</th>\n",
       "      <th>문의사항</th>\n",
       "      <th>문의사항_클리닝</th>\n",
       "    </tr>\n",
       "  </thead>\n",
       "  <tbody>\n",
       "    <tr>\n",
       "      <th>0</th>\n",
       "      <td>2020-06-30 18:07:55</td>\n",
       "      <td>발신</td>\n",
       "      <td>약국몰</td>\n",
       "      <td>배송관련</td>\n",
       "      <td>단순배송확인/ 요청</td>\n",
       "      <td>완결</td>\n",
       "      <td>\\n\\nPO1020267145 결제완료(2020-06-29 08:40:24)대웅제약...</td>\n",
       "      <td>결제 완료 대웅제약 미배송건 문의 현재 시 이후라 확인 어렵고 내일 확인해서 오전에...</td>\n",
       "    </tr>\n",
       "    <tr>\n",
       "      <th>1</th>\n",
       "      <td>2020-06-30 18:03:46</td>\n",
       "      <td>발신</td>\n",
       "      <td>약국몰</td>\n",
       "      <td>이용문의</td>\n",
       "      <td>마일리지 문의</td>\n",
       "      <td>완결</td>\n",
       "      <td>\\n\\n더샵 마일리지 -&gt; 약구매시 사용불가 / 생활기프트신청 안내드림 \\n</td>\n",
       "      <td>더샵 마일리지 약 구매 시 사용 불가 생활기프트 신청 안내드림</td>\n",
       "    </tr>\n",
       "    <tr>\n",
       "      <th>2</th>\n",
       "      <td>2020-06-30 18:02:19</td>\n",
       "      <td>수신</td>\n",
       "      <td>약국몰</td>\n",
       "      <td>반품관련</td>\n",
       "      <td>대웅제약</td>\n",
       "      <td>완결</td>\n",
       "      <td>\\n\\n1) 개성약국-서인혜\\n임팩타민실버정/102.02mg/120정 * 1개 반품...</td>\n",
       "      <td>개성 약국서 인혜 임팩타민 실버정정 개 반품 요청사유 유효기간 임박 신청 완료 열린...</td>\n",
       "    </tr>\n",
       "    <tr>\n",
       "      <th>3</th>\n",
       "      <td>2020-06-30 18:02:13</td>\n",
       "      <td>발신</td>\n",
       "      <td>약국몰</td>\n",
       "      <td>이용문의</td>\n",
       "      <td>이벤트관련</td>\n",
       "      <td>완결</td>\n",
       "      <td>\\n\\n6월 대웅 OTC구매금액 확인 요청 \\n-&gt; 총 1,032,790 원임. 마...</td>\n",
       "      <td>월 대웅 구매 금액 확인 요청 총 원임 마일리지 점 오늘 소멸되므로 필히 패밀리존 ...</td>\n",
       "    </tr>\n",
       "    <tr>\n",
       "      <th>4</th>\n",
       "      <td>2020-06-30 18:01:43</td>\n",
       "      <td>수신</td>\n",
       "      <td>약국몰</td>\n",
       "      <td>배송관련</td>\n",
       "      <td>단순배송확인/ 요청</td>\n",
       "      <td>완결</td>\n",
       "      <td>\\n\\nPO1020267145 결제완료(2020-06-29 08:40:24)대웅제약...</td>\n",
       "      <td>결제 완료 대웅제약 미배송건 문의 확인해서 연락드리겠다고 안내드림</td>\n",
       "    </tr>\n",
       "  </tbody>\n",
       "</table>\n",
       "</div>"
      ],
      "text/plain": [
       "                  상담일시 통화유형 상담구분  상담유형        상담상세 상담결과  \\\n",
       "0  2020-06-30 18:07:55   발신  약국몰  배송관련  단순배송확인/ 요청   완결   \n",
       "1  2020-06-30 18:03:46   발신  약국몰  이용문의     마일리지 문의   완결   \n",
       "2  2020-06-30 18:02:19   수신  약국몰  반품관련        대웅제약   완결   \n",
       "3  2020-06-30 18:02:13   발신  약국몰  이용문의       이벤트관련   완결   \n",
       "4  2020-06-30 18:01:43   수신  약국몰  배송관련  단순배송확인/ 요청   완결   \n",
       "\n",
       "                                                문의사항  \\\n",
       "0  \\n\\nPO1020267145 결제완료(2020-06-29 08:40:24)대웅제약...   \n",
       "1         \\n\\n더샵 마일리지 -> 약구매시 사용불가 / 생활기프트신청 안내드림 \\n   \n",
       "2  \\n\\n1) 개성약국-서인혜\\n임팩타민실버정/102.02mg/120정 * 1개 반품...   \n",
       "3  \\n\\n6월 대웅 OTC구매금액 확인 요청 \\n-> 총 1,032,790 원임. 마...   \n",
       "4  \\n\\nPO1020267145 결제완료(2020-06-29 08:40:24)대웅제약...   \n",
       "\n",
       "                                            문의사항_클리닝  \n",
       "0  결제 완료 대웅제약 미배송건 문의 현재 시 이후라 확인 어렵고 내일 확인해서 오전에...  \n",
       "1                 더샵 마일리지 약 구매 시 사용 불가 생활기프트 신청 안내드림  \n",
       "2  개성 약국서 인혜 임팩타민 실버정정 개 반품 요청사유 유효기간 임박 신청 완료 열린...  \n",
       "3  월 대웅 구매 금액 확인 요청 총 원임 마일리지 점 오늘 소멸되므로 필히 패밀리존 ...  \n",
       "4               결제 완료 대웅제약 미배송건 문의 확인해서 연락드리겠다고 안내드림  "
      ]
     },
     "execution_count": 20,
     "metadata": {},
     "output_type": "execute_result"
    }
   ],
   "source": [
    "df.head()"
   ]
  },
  {
   "cell_type": "code",
   "execution_count": 21,
   "metadata": {},
   "outputs": [
    {
     "name": "stdout",
     "output_type": "stream",
     "text": [
      "<class 'pandas.core.frame.DataFrame'>\n",
      "Int64Index: 29506 entries, 0 to 29547\n",
      "Data columns (total 8 columns):\n",
      " #   Column    Non-Null Count  Dtype \n",
      "---  ------    --------------  ----- \n",
      " 0   상담일시      29506 non-null  object\n",
      " 1   통화유형      29506 non-null  object\n",
      " 2   상담구분      29506 non-null  object\n",
      " 3   상담유형      29506 non-null  object\n",
      " 4   상담상세      29506 non-null  object\n",
      " 5   상담결과      29506 non-null  object\n",
      " 6   문의사항      29506 non-null  object\n",
      " 7   문의사항_클리닝  29506 non-null  object\n",
      "dtypes: object(8)\n",
      "memory usage: 2.0+ MB\n"
     ]
    }
   ],
   "source": [
    "df.info()"
   ]
  },
  {
   "cell_type": "code",
   "execution_count": 22,
   "metadata": {},
   "outputs": [],
   "source": [
    "def define_stopwords(path):\n",
    "    \n",
    "    SW = set()\n",
    "    # 불용어를 추가하는 방법 1.\n",
    "    #for i in string.punctuation:\n",
    "        #SW.add(i)\n",
    "    SW.update([\"요청\", \"완료\", \"안내\", \"확인\", \"반품\", \"결제\", \"약국\", \"신청\", \"배송\", \"취소\", \"가능\", \"문의\", \"주문\", \"구매\"])\n",
    "    SW.update(['예정', '연락', '처리', '대웅', '제품', '사용', '더샵', '발송', '업체', '변경', '방법', '안내드림', '쿠폰', '이벤트', '등록', '문자'])\n",
    "    SW.update(['대웅제약', '상품', '적립', '이상', '카드', '금일', '승인', '해당', '전달', '거점', '수정', '담당자', '전화', '통화', '팩스'])\n",
    "    SW.update(['다함', '진행', '오후', '사업자', '잔고', '할인', '금액', '오늘', '회수', '오산', '약사', '번호', '검색', '판매', '도착', '주소'])\n",
    "    SW.update(['메일', '관리', '환불', '페이', '기간', '유효', '사유', '기사', '불가', '출고', '약품', '약속', '영업', '세금', '발행', '전체'])\n",
    "    SW.update(['사원', '방문', '재고', '제조', '이오', '부분', '포장', '주문건', '관련', '박스', '공장', '반품건', '수량', '정지', '배송문', '제약'])\n",
    "    SW.update(['즉시', '통장', '처방전', '포인트', '전용', '서비스', '보관', '복원', '대웅바이', '사용법', '선구매', '소멸', '적용', '개선', '오후시'])\n",
    "    SW.update(['포인트몰', '선발행', '마감', '환입실', '등급', '지급', '서울지점', '삭제', '안내함', '구입', '연락처', '마일리지', '마이너스', '연락드림'])\n",
    "    SW.update(['차장', '드림', '바이오', '이력', '어려움', '판촉물', '코드', '본인', '품절', '혜택', '직거래', '사입', '인천', '가입', '내일', '통화건'])\n",
    "    SW.update(['예치금', '양해', '지연', '시간', '이후', '부재', '폐업', '오전', '내역', '여부', '연락드리', '교환', '접수', '이마트', '추가', '소비자'])\n",
    "    SW.update(['특별', '경우', '수신', '공급관', '품목', '월요일', '중단', '상품권', '내용', '배정', '추후', '익일', '서울', '정보', '오류', '택배'])\n",
    "    SW.update(['기존', '일자', '미배송', '시스템', '새벽', '당첨', '입금', '시분', '계좌', '국민', '통합', '복합', '이동', '오결재', '매핑', '향남'])\n",
    "    SW.update(['참여', '역대', '성규', '가상', '채널', '스마', '김선', '산서', '이번', '상태', '공지', '어제', '입력', '매출', '전송', '장바구니'])\n",
    "    SW.update(['소통', '사본', '지문', '소요', '기재', '조회', '다음', '고객', '발급', '도매', '부족', '연결', '오주문', '지역', '정도', '건강'])\n",
    "    SW.update(['핸드폰', '가격', '종료', '인천약', '이용', '인수', '기한', '오주문', '부천시', '유통', '작업', '동물', '확인차', '알반품', '노출', '종료'])\n",
    "    SW.update(['공급', '예정일', '건지', '송문', '품건', '현재', '거래', '계산서', '하심', '환입', '페이지', '전용관', '아이디', '지점', '카톡', '만우절'])\n",
    "    SW.update(['필요', '수거', '명세', '분기', '오영', '유진', '회원', '이관', '부탁', '사항', '회신', '차주', '버튼', '누락', '말씀', '인상', '약정'])\n",
    "    SW.update(['개월', '약가', '인하', '단가', '의약품', '우리', '보상', '선택', '일정', '표기', '희망', '처방', '왼쪽', '소진', '오른쪽', '최저', '선결'])\n",
    "    SW.update(['초유', '제조사', '아침', '소형', '할부', '매입', '일시불', '사전', '신용', '예치', '지오', '고함', '제이', '만원', '스케'])\n",
    "    SW.update(['제일', '고하', '까지', '해달', '리기', '아직', '하나', '어서', '나이스', '달라', '헬스인팜', '탈퇴', '부외', '직접'])\n",
    "    SW.update(['계정', '온누리', '보덕', '하자', '측정', '케어', '려고', '신협', '음양', '대성', '낱말', '혈당', '판촉'])\n",
    "    SW.update(['해주', '센터', '삼성', '개중', '인지', '상담', '지금', '드릴', '내주', '보니', '헬스', '대전', '대웅전', '메디케어'])\n",
    "    SW.update(['단순', '잘못', '백색', '락준', '불만', '운영', '용관', '감사', '도록', '때문', '재인', '배송지', '일반', '문하'])\n",
    "    SW.update(['매가', '접촉', '명세서', '이메일', '한번', '송해', '클레', '불량', '아보', '소영', '요양', '어가', '인증', '된거', '연질'])\n",
    "    SW.update(['동일', '보메', '발생', '신한', '매물', '하루', '크림', '원장', '신고', '정성희', '배달' ,'경과', '매하', '파손', '기건'])\n",
    "    SW.update(['에스', '국내', '해도', '서원', '송장', '식약처', '미수', '드리겠음', '반송', '제기', '문제', '한약', '문송', '연산'])\n",
    "    SW.update(['월드비전', '맥스', '우리카드', '패밀리', '보이', '롯데', '어디', '포함', '대신', '통해', '드림', '신규가입', '계속'])\n",
    "    SW.update(['예전', '사랑', '주심', '그린', '이나', '비번', '사이트', '기관', '방혜영', '자로', '터미널', '정확', '로젠택배', '비씨카드'])\n",
    "    SW.update(['웰빙', '거절', '답변', '한신', '나머지', '이월', '무료', '금선', '입하', '팝업', '밀리그램', '대해', '이지', '임박'])\n",
    "    SW.update(['크롬', '접속', '로그인', '해결', '가격표', '사과', '케이디', '상사', '로그인오류', '대한', '일반', '링크', '오배'])\n",
    "    SW.update(['수령', '입점', '정확', '무조건', '인터넷', '예외', '상황', '급사', '정중', '이건', '설정', '익스플로러', '자드', '온수'])\n",
    "    SW.update(['다시', '까지', '아직', '지금', '직접', '스케', '오주', '모두', '고하', '지오','하니', '민원', '코리아', '탑헬', '린다', '핸드', '변심'])\n",
    "    SW.update(['천지인', '상원', '메드', '바로', '다른', '언제', '준비', '자동', '대형', '응답', '세트', '출하', '하라', '플러스', '청결', '주시', '일단'])\n",
    "    SW.update(['백제', '문건', '검정', '복산', '대로', '내해', '그냥', '천원', '보고', '재발', '마이', '중순', '한지', '세잌', '캡슐', '물량', '프로', '주신', '해주시'])\n",
    "    SW.update(['세이', '부터', '유미선', '드립', '피드백', '알반', '프로', '순차', '우선', '주기', '중이', '거래처', '비엔', '중간', '클린', '송됨', '정제'])\n",
    "    SW.update(['다가', '가인', '파마', '다음주', '최대한', '가지', '생산', '면서', '납품', '본사', '죄송', '고문', '폭주', '이제', '물건', '정상', '이전', '라며'])\n",
    "    SW.update(['재연', '이은미', '서방', '재주', '대체', '기프티콘', '당시', '블랙', '올리브영', '연예인', '파리바게트', '경로', '시라', '청해', '미정'])\n",
    "    SW.update(['환급', '사진', '휴대폰', '조사', '더니', '작년', '물류', '부담', '등록증', '거부', '보시', '저겔', '타이', '패션', '기획', '기프트', '조금'])\n",
    "    SW.update(['일회용', '고안', '공동', '성인', '전주', '고시', '오지', '최지윤', '내달', '간소', '전화번호', '미리', '개별', '김효정', '재부팅', '설치'])\n",
    "    SW.update(['윈도우', '수동', '사라', '손님', '인증서','화면', '서클', '가위', '세화헬', '신용카드', '흰색', '원격', '생활', '실행', '중구', '온도', '트레이드'])\n",
    "    SW.update(['아무', '업데이트', '닥터', '프라자', '면허증'])\n",
    "    # 불용어를 추가하는 방법 2.\n",
    "    # stopwords-ko.txt에 직접 추가\n",
    "    \n",
    "    with open(path,'r', errors='ignore') as f:\n",
    "        for word in f:\n",
    "            SW.add(word)\n",
    "\n",
    "    return SW\n"
   ]
  },
  {
   "cell_type": "code",
   "execution_count": 23,
   "metadata": {
    "scrolled": true
   },
   "outputs": [],
   "source": [
    "SW = define_stopwords(\"stopwords-ko.txt\")"
   ]
  },
  {
   "cell_type": "code",
   "execution_count": 24,
   "metadata": {},
   "outputs": [],
   "source": [
    "def month_freq_analysis(df, month_start, month_end):\n",
    "    \n",
    "    # 시간정보 열 datetime 정보로 변환\n",
    "    df['상담일시'] = pd.to_datetime(df['상담일시'], format='%Y/%m/%d')\n",
    "    #연도, 월 데이터 dataframe 받음\n",
    "    year_month_df = df.loc[(df['상담일시'] > month_start) & (df['상담일시'] < month_end)]\n",
    "    #텍스트 정제\n",
    "    corpus = year_month_df['문의사항']\n",
    "    #명사 추출\n",
    "    per_month_keyword = [word for word in twitter.nouns(' '.join(corpus)) if word not in SW and len(word) > 1]\n",
    "    text = nltk.Text(per_month_keyword, name='temp')\n",
    "    \n",
    "\n",
    "    #pprint(text.vocab().most_common(10))\n",
    "    path = \"c:/Windows/Fonts/malgun.ttf\"\n",
    "    if platform.system() == 'Darwin':\n",
    "        rc('font', family='AppleGothic')\n",
    "    elif platform.system() == 'Windows':\n",
    "        font_name = font_manager.FontProperties(fname=path).get_name()\n",
    "        rc('font', family=font_name)\n",
    "    else:\n",
    "        print('Unknown system... sorry~~~~')\n",
    "\n",
    "    plt.figure(figsize=(16, 10))    \n",
    "    #Delete Later    \n",
    "    plt.tick_params(axis='x', colors='white')\n",
    "    plt.tick_params(axis='y', colors='white')\n",
    "    plt.xticks(fontsize=16)\n",
    "    \n",
    "    text.plot(25)\n",
    "\n",
    "    wc = text.vocab().most_common(100)\n",
    "\n",
    "# for win : font_path='c:/Windows/Fonts/malgun.ttf'\n",
    "#     wordcloud = WordCloud(font_path='/Library/Fonts/AppleGothic.ttf',\n",
    "#                           relative_scaling = 0.2,\n",
    "#                           #stopwords=STOPWORDS,\n",
    "#                           background_color='white',\n",
    "#                           ).generate_from_frequencies(dict(wc))\n",
    "#     plt.figure(figsize=(16,8))\n",
    "#     plt.imshow(wordcloud)\n",
    "#     plt.axis(\"off\")\n",
    "#     plt.show()"
   ]
  },
  {
   "cell_type": "code",
   "execution_count": 31,
   "metadata": {},
   "outputs": [
    {
     "data": {
      "image/png": "[encoded data removed]",
      "text/plain": [
       "<Figure size 1152x720 with 1 Axes>"
      ]
     },
     "metadata": {
      "needs_background": "dark"
     },
     "output_type": "display_data"
    }
   ],
   "source": [
    "month_freq_analysis(df, '2020-06-01', '2020-06-30')"
   ]
  },
  {
   "cell_type": "code",
   "execution_count": null,
   "metadata": {},
   "outputs": [],
   "source": []
  },
  {
   "cell_type": "code",
   "execution_count": null,
   "metadata": {},
   "outputs": [],
   "source": []
  }
 ],
 "metadata": {
  "kernelspec": {
   "display_name": "Python 3",
   "language": "python",
   "name": "python3"
  },
  "language_info": {
   "codemirror_mode": {
    "name": "ipython",
    "version": 3
   },
   "file_extension": ".py",
   "mimetype": "text/x-python",
   "name": "python",
   "nbconvert_exporter": "python",
   "pygments_lexer": "ipython3",
   "version": "3.8.5"
  },
  "toc": {
   "base_numbering": 1,
   "nav_menu": {},
   "number_sections": true,
   "sideBar": true,
   "skip_h1_title": false,
   "title_cell": "Table of Contents",
   "title_sidebar": "Contents",
   "toc_cell": false,
   "toc_position": {},
   "toc_section_display": true,
   "toc_window_display": false
  }
 },
 "nbformat": 4,
 "nbformat_minor": 5
}
